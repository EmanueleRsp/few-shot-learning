{
  "nbformat": 4,
  "nbformat_minor": 0,
  "metadata": {
    "colab": {
      "provenance": [],
      "gpuType": "T4"
    },
    "kernelspec": {
      "name": "python3",
      "display_name": "Python 3"
    },
    "language_info": {
      "name": "python"
    },
    "accelerator": "GPU"
  },
  "cells": [
    {
      "cell_type": "markdown",
      "source": [
        "# **Prototypical Networks for Few-Shot Learning on Omniglot**\n",
        "\n",
        "*Based on this [colab notebook](https://colab.research.google.com/drive/1TPL2e3v8zcDK00ABqH3R0XXNJtJnLBCd?usp=sharing).*\n",
        "\n",
        "This notebook offers a demonstration of metric-based Few-Shot Learning (FSL) using **Prototypical Networks** on the **Omniglot** benchmark."
      ],
      "metadata": {
        "id": "UnWMR-UREveO"
      }
    },
    {
      "cell_type": "markdown",
      "source": [
        "---"
      ],
      "metadata": {
        "id": "WRwq8f58yeZs"
      }
    },
    {
      "cell_type": "markdown",
      "source": [
        "## **1. Background**\n",
        "\n",
        "### **1.1 Few-Shot Learning (FSL)**\n",
        "\n",
        "In FSL we evaluate and train **episodically**. Each **episode** samples $N$ classes (*N-way*). For each class $K$, we are given a small **support set** $S_k$ of size $K$ (*K-shot*) and a **query set** $Q_k$.  \n",
        "\n",
        "The learner must classify each query among the $N$ classes using **only** the $N \\times K$ labeled supports from that episode.  \n",
        "Crucially, the classes in an episode are typically **unseen during training**; the model must leverage the supports as a “catalog” describing what each class looks like.\n",
        "\n",
        "> **Example (3-way 2-shot):** the support contains 2 examples for each of 3 classes. For every query image, the learner must predict its label among those 3 classes.\n",
        "\n",
        "In practice, many methods are **metric-based**:  \n",
        "1. use an encoder to project images into a **feature space**,  \n",
        "2. classify queries by comparing them to the supports in that space.\n",
        "\n",
        "*(Evaluation tip: report mean accuracy over many episodes, e.g. $T = 10{,}000$, with a 95% confidence interval.)*\n",
        "\n",
        "\n",
        "![few-shot classification task](https://images.ctfassets.net/be04ylp8y0qc/bZhboqYXfYeW4I88xmMNv/7c5efdc368206feaad045c674b1ced95/1_AteD0yXLkQ1BbjQTB3Ytwg.png?fm=webp)"
      ],
      "metadata": {
        "id": "aw_DqtwxFaSF"
      }
    },
    {
      "cell_type": "markdown",
      "source": [
        "### **1.2 Prototypical Networks**\n",
        "\n",
        "Let $ f_\\phi(\\cdot) $ be an embedding function (a neural encoder).  \n",
        "For each class $K$ in an episode, we compute the **prototype** as the mean embedding of its supports:\n",
        "\n",
        "$$\n",
        "\\mathbf{c}_k \\;=\\; \\frac{1}{|S_k|} \\sum_{(x,y)\\in S_k} f_\\phi(x).\n",
        "$$\n",
        "\n",
        "Given a query $x$, we score classes via the **negative distance** between its embedding and each prototype:\n",
        "\n",
        "\n",
        "$$\n",
        "\\text{logit}_k(x) \\;=\\; -\\, d\\!\\big(f_\\phi(x), \\mathbf{c}_k\\big),\n",
        "$$\n",
        "\n",
        "where $ d(\\cdot,\\cdot) $ is typically the **squared Euclidean** or **(negative) cosine** distance.\n",
        "\n",
        "The class probabilities are obtained with a softmax:\n",
        "\n",
        "$$\n",
        "p_\\phi(y = k \\mid x) \\;=\\;\n",
        "\\frac{\\exp\\!\\left(-d(f_\\phi(x), \\mathbf{c}_k)\\right)}\n",
        "{\\sum_{j=1}^{N} \\exp\\!\\left(-d(f_\\phi(x), \\mathbf{c}_j)\\right)}.\n",
        "$$\n",
        "\n",
        "The model is trained **episodically** by minimizing the **cross-entropy loss** over the query labels within each episode.\n",
        "\n",
        "\n",
        "![Prototypical classification](https://images.ctfassets.net/be04ylp8y0qc/45M9UcUp6KnzwDaBHeGZb7/bb2dcda5942ee7320600125ac2310af6/0_M0GSRZri859fGo48.png?fm=webp)\n",
        "\n",
        "\n",
        "**Notes (implementation):**\n",
        "- The forward pass usually receives **support images, support labels, and query images**; prototypes are computed on-the-fly.  \n",
        "- A common backbone is a pretrained CNN (e.g., ResNet-18) with its classifier head removed.  \n",
        "- When using cosine distance, embeddings are often **$\\ell_2$-normalized**:  \n",
        "  $ f_\\phi(x) \\leftarrow f_\\phi(x) / \\| f_\\phi(x) \\| $.\n"
      ],
      "metadata": {
        "id": "cec-v_54xCDC"
      }
    },
    {
      "cell_type": "markdown",
      "source": [
        "### **1.3 Omniglot dataset**\n",
        "We'll use [Omniglot](https://github.com/brendenlake/omniglot), a popular MNIST-like benchmark\n",
        "for few-shot classification. It contains 1623 characters from 50 different alphabets. Each character has been written by\n",
        "20 different people.\n",
        "\n",
        "It's part of the `torchivision` package, so it's easy to download\n",
        "and work with."
      ],
      "metadata": {
        "id": "i0C2-RwkxDHY"
      }
    },
    {
      "cell_type": "markdown",
      "source": [
        "---"
      ],
      "metadata": {
        "id": "mcC8Q_a3yYtK"
      }
    },
    {
      "cell_type": "markdown",
      "source": [
        "## **2. Practice**"
      ],
      "metadata": {
        "id": "46OYMaAHzarf"
      }
    },
    {
      "cell_type": "code",
      "source": [
        "import numpy as np\n",
        "import pandas as pd\n",
        "import torch\n",
        "import math\n",
        "import torch.nn.functional as F\n",
        "import torch.optim as optim\n",
        "\n",
        "from torch import Tensor, nn, optim\n",
        "from torch.utils.data import DataLoader, Subset\n",
        "from torchvision import transforms, utils\n",
        "from torchvision.datasets import Omniglot\n",
        "from torchvision.models import resnet18\n",
        "from tqdm import tqdm\n",
        "from functools import partial\n",
        "from matplotlib import pyplot as plt\n",
        "from copy import deepcopy"
      ],
      "metadata": {
        "id": "wQG0BJXyzaVl"
      },
      "execution_count": 1,
      "outputs": []
    },
    {
      "cell_type": "code",
      "source": [
        "# Reproducibility\n",
        "SEED = 42\n",
        "rng = np.random.default_rng(SEED)\n",
        "torch.manual_seed(SEED)"
      ],
      "metadata": {
        "colab": {
          "base_uri": "https://localhost:8080/"
        },
        "id": "mTBYvx0RKLZ8",
        "outputId": "e3f5bdea-3fc5-4e8d-d90f-b38c642457e1"
      },
      "execution_count": 2,
      "outputs": [
        {
          "output_type": "execute_result",
          "data": {
            "text/plain": [
              "<torch._C.Generator at 0x7db1bd5c3db0>"
            ]
          },
          "metadata": {},
          "execution_count": 2
        }
      ]
    },
    {
      "cell_type": "code",
      "source": [
        "# Few-shot episode configuration\n",
        "N_WAY = 5        # Number of classes per task\n",
        "K_SHOT = 5       # Support examples per class\n",
        "Q_QUERY = 10     # Query examples per class\n",
        "\n",
        "# Training configuration\n",
        "FREEZE_BACKBONE = True  # If only last backbone block is trained\n",
        "N_TRAINING_TASKS = 20_000   # Number of training episodes\n",
        "N_VAL_TASKS = 1_000         # Number of validation episodes\n",
        "N_TEST_TASKS = 1_000        # Number of test episodes\n",
        "\n",
        "# Validation setting\n",
        "LOG_EVERY = 20\n",
        "VAL_EVERY = 500            # validate every VAL_EVERY episodes\n",
        "PATIENCE  = 5              # early stopping after PATIENCE consecutive downgrades"
      ],
      "metadata": {
        "id": "kMoqAziQ--Gu"
      },
      "execution_count": 3,
      "outputs": []
    },
    {
      "cell_type": "code",
      "source": [
        "from torchvision import utils as vutils\n",
        "import matplotlib.pyplot as plt\n",
        "\n",
        "def plot_images(images: torch.Tensor, title: str, images_per_row: int):\n",
        "    \"\"\"\n",
        "    images: (B, C, H, W)\n",
        "    \"\"\"\n",
        "    grid = vutils.make_grid(images, nrow=images_per_row, padding=1)  # niente bordi tra immagini\n",
        "    plt.figure()\n",
        "    plt.title(title)\n",
        "    plt.imshow(grid.permute(1, 2, 0).cpu())\n",
        "    plt.axis('off')     # rimuove assi e griglia\n",
        "    plt.tight_layout()\n",
        "    plt.show()\n"
      ],
      "metadata": {
        "id": "fXDfXQC59J8q"
      },
      "execution_count": 26,
      "outputs": []
    },
    {
      "cell_type": "markdown",
      "source": [
        "### **2.1 Environment**"
      ],
      "metadata": {
        "id": "pcyzskpDDiHX"
      }
    },
    {
      "cell_type": "markdown",
      "source": [
        "#### 2.1.1 Omniglot dataset\n",
        "\n",
        "We prepare the Omniglot dataset:"
      ],
      "metadata": {
        "id": "g6TMsFobzwsP"
      }
    },
    {
      "cell_type": "code",
      "source": [
        "image_size = 28\n",
        "\n",
        "train_tf = transforms.Compose([\n",
        "    transforms.Grayscale(num_output_channels=3),\n",
        "    transforms.RandomResizedCrop(image_size),\n",
        "    transforms.RandomHorizontalFlip(),\n",
        "    transforms.ToTensor(),\n",
        "])\n",
        "\n",
        "eval_tf = transforms.Compose([\n",
        "    transforms.Grayscale(num_output_channels=3),\n",
        "    transforms.Resize([int(image_size * 1.15), int(image_size * 1.15)]),\n",
        "    transforms.CenterCrop(image_size),\n",
        "    transforms.ToTensor(),\n",
        "])"
      ],
      "metadata": {
        "id": "yZctOKZV8Pl0"
      },
      "execution_count": 5,
      "outputs": []
    },
    {
      "cell_type": "code",
      "source": [
        "train_full = Omniglot(root=\"./data\", background=True, transform=train_tf, download=True)\n",
        "val_full   = Omniglot(root=\"./data\", background=True, transform=eval_tf,  download=True)\n",
        "test_set   = Omniglot(root=\"./data\", background=False, transform=eval_tf, download=True)"
      ],
      "metadata": {
        "id": "LpoDLwAuz6df",
        "colab": {
          "base_uri": "https://localhost:8080/"
        },
        "outputId": "1d1d3677-7541-45c9-d64a-479b559baeeb"
      },
      "execution_count": 6,
      "outputs": [
        {
          "output_type": "stream",
          "name": "stderr",
          "text": [
            "100%|██████████| 9.46M/9.46M [00:00<00:00, 254MB/s]\n",
            "100%|██████████| 6.46M/6.46M [00:00<00:00, 261MB/s]\n"
          ]
        }
      ]
    },
    {
      "cell_type": "code",
      "source": [
        "def get_dataset_labels(ds):\n",
        "    \"\"\"\n",
        "    Return a 1D numpy array of dataset labels for common torchvision datasets.\n",
        "    Tries several known attributes, then falls back to a light scan.\n",
        "    \"\"\"\n",
        "    # 1) Standard torchvision datasets (e.g., CIFAR, MNIST)\n",
        "    if hasattr(ds, \"targets\") and len(ds.targets) > 0:\n",
        "        return np.array(ds.targets)\n",
        "\n",
        "    # 2) Some datasets use .labels\n",
        "    if hasattr(ds, \"labels\") and len(ds.labels) > 0:\n",
        "        return np.array(ds.labels)\n",
        "\n",
        "    # 3) Omniglot (torchvision) keeps a flat list of (path, class_idx)\n",
        "    if hasattr(ds, \"_flat_character_images\") and len(ds._flat_character_images) > 0:\n",
        "        return np.array([lbl for _, lbl in ds._flat_character_images])\n",
        "\n",
        "    # 4) Fallback: iterate WITHOUT forcing heavy transforms if possible.\n",
        "    labels = []\n",
        "    for i in range(len(ds)):\n",
        "        _, y = ds[i]\n",
        "        labels.append(int(y))\n",
        "    return np.array(labels)"
      ],
      "metadata": {
        "id": "_03DmZQu8wg-"
      },
      "execution_count": 7,
      "outputs": []
    },
    {
      "cell_type": "markdown",
      "source": [
        "#### 2.1.2 Episodic DataLoader\n",
        "\n",
        "Now that we have a model, we need to evaluate it on **few-shot tasks**.\n",
        "A standard PyTorch `DataLoader` builds mini-batches of images without\n",
        "considering whether they belong to a support or query set.\n",
        "For few-shot learning, we need something more specific:\n",
        "\n",
        "1. **Balanced classes**: each batch must contain examples from exactly `n_way` classes.\n",
        "2. **Support / query split**: for each class, we need `k_shot` images in the support set\n",
        "   and `q_query` images in the query set.\n",
        "\n",
        "To achieve this, we use a custom **task sampler** and a custom **collate function**:\n",
        "\n",
        "- The sampler samples `n_way` classes and then `k_shot + q_query` images from each class.\n",
        "- The collate function splits the sampled images into 5 items:\n",
        "  1. support images\n",
        "  2. support labels (in range `[0, n_way)`)\n",
        "  3. query images\n",
        "  4. query labels (in range `[0, n_way)`)\n",
        "  5. a mapping from episodic labels `[0, n_way)` to their original dataset labels\n",
        "\n",
        "This way, each batch is a complete *episode* for few-shot training or evaluation.\n"
      ],
      "metadata": {
        "id": "jF4bUd7z0c7W"
      }
    },
    {
      "cell_type": "code",
      "source": [
        "def episodic_collate_fn(\n",
        "    batch,\n",
        "    n_way: int,\n",
        "    k_shot: int,\n",
        "    q_query: int,\n",
        "):\n",
        "    \"\"\"\n",
        "    Return the same output format as easy-fsl's TaskSampler.episodic_collate_fn.\n",
        "\n",
        "    Args:\n",
        "        batch: list of (image, label) pairs sampled episodically, grouped by class.\n",
        "    Returns:\n",
        "        support_images: (n_way * k_shot, C, H, W)\n",
        "        support_labels: (n_way * k_shot,)   values in [0, n_way)\n",
        "        query_images:   (n_way * q_query, C, H, W)\n",
        "        query_labels:   (n_way * q_query,)  values in [0, n_way)\n",
        "        true_class_ids: list[int] of original dataset class ids (len = n_way)\n",
        "    \"\"\"\n",
        "    # Unzip images and labels\n",
        "    imgs, labs = zip(*batch)\n",
        "\n",
        "    # Ensure tensors (most torchvision datasets already return tensors)\n",
        "    if not torch.is_tensor(imgs[0]):\n",
        "        # If your dataset returns PIL images, convert to tensor here or in the dataset __getitem__\n",
        "        imgs = [torch.as_tensor(np.array(im)).permute(2, 0, 1) for im in imgs]\n",
        "\n",
        "    images = torch.stack(imgs)              # (n_way*(k_shot+q_query), C, H, W)\n",
        "    labels = torch.tensor([int(l) for l in labs])  # original dataset labels\n",
        "\n",
        "    n_per = k_shot + q_query\n",
        "    assert images.size(0) == n_way * n_per, \"Batch size doesn't match n_way*(k_shot+q_query)\"\n",
        "\n",
        "    # Reshape by class assuming sampler concatenated per-class blocks in order\n",
        "    images = images.view(n_way, n_per, *images.shape[1:])  # (N, S+Q, C, H, W)\n",
        "    labels = labels.view(n_way, n_per)                     # (N, S+Q)\n",
        "\n",
        "    # True class ids = first label of each class block (original dataset ids)\n",
        "    true_class_ids = [int(labels[i, 0].item()) for i in range(n_way)]\n",
        "\n",
        "    # Map dataset labels -> episodic labels [0..n_way)\n",
        "    label_map = {cid: i for i, cid in enumerate(true_class_ids)}\n",
        "    episodic_labels = labels.clone()\n",
        "    for i, cid in enumerate(true_class_ids):\n",
        "        episodic_labels[i] = label_map[cid]\n",
        "\n",
        "    # Split support / query\n",
        "    support_images = images[:, :k_shot].reshape(-1, *images.shape[2:])\n",
        "    query_images   = images[:, k_shot:].reshape(-1, *images.shape[2:])\n",
        "    support_labels = episodic_labels[:, :k_shot].reshape(-1)\n",
        "    query_labels   = episodic_labels[:, k_shot:].reshape(-1)\n",
        "\n",
        "    return support_images, support_labels, query_images, query_labels, true_class_ids"
      ],
      "metadata": {
        "id": "T-IK4rFO93sW"
      },
      "execution_count": 8,
      "outputs": []
    },
    {
      "cell_type": "code",
      "source": [
        "def test_episodic_sampler(n_way, k_shot, q_query, n_tasks):\n",
        "    \"\"\"\n",
        "    Yield lists of indices for episodic tasks.\n",
        "    Each list has n_way * (k_shot + q_query) indices, grouped by class.\n",
        "    \"\"\"\n",
        "    n_per_class = k_shot + q_query\n",
        "    for _ in range(n_tasks):\n",
        "        chosen = np.random.choice(list(class_indices.keys()), size=n_way, replace=False)\n",
        "        batch = []\n",
        "        for c in chosen:\n",
        "            pool = class_indices[c]\n",
        "            if len(pool) < n_per_class:\n",
        "                raise ValueError(\n",
        "                    f\"Class {c} has only {len(pool)} samples; need {n_per_class} \"\n",
        "                    f\"(k_shot + q_query).\"\n",
        "                )\n",
        "            idx = np.random.choice(pool, size=n_per_class, replace=False)\n",
        "            batch.append(idx)\n",
        "        # Concatenate in the order of 'chosen' so we can reshape by class later\n",
        "        yield np.concatenate(batch)"
      ],
      "metadata": {
        "id": "TEG58mnp988b"
      },
      "execution_count": 9,
      "outputs": []
    },
    {
      "cell_type": "code",
      "source": [
        "# We retrieve labels\n",
        "labels_test = get_dataset_labels(test_set)\n",
        "class_indices = {c: np.where(labels_test == c)[0] for c in np.unique(labels_test)}\n",
        "\n",
        "# Build episodic DataLoader\n",
        "collate = partial(episodic_collate_fn, n_way=N_WAY, k_shot=K_SHOT, q_query=Q_QUERY)\n",
        "\n",
        "test_loader = DataLoader(\n",
        "    test_set,\n",
        "    batch_sampler=list(test_episodic_sampler(N_WAY, K_SHOT, Q_QUERY, N_TEST_TASKS)),\n",
        "    collate_fn=collate,\n",
        "    num_workers=2,\n",
        "    pin_memory=True,\n",
        ")"
      ],
      "metadata": {
        "id": "w2MbMUPu4F4n"
      },
      "execution_count": 10,
      "outputs": []
    },
    {
      "cell_type": "code",
      "source": [
        "(\n",
        "    example_support_images,\n",
        "    example_support_labels,\n",
        "    example_query_images,\n",
        "    example_query_labels,\n",
        "    example_class_ids,\n",
        ") = next(iter(test_loader))\n",
        "\n",
        "plot_images(example_support_images, \"support images\", images_per_row=K_SHOT)\n",
        "plot_images(example_query_images, \"query images\", images_per_row=Q_QUERY)"
      ],
      "metadata": {
        "id": "6Hqp-6PUgtBV",
        "outputId": "e10aa6fb-6687-40ad-d492-9ce40e1bd9bc",
        "colab": {
          "base_uri": "https://localhost:8080/",
          "height": 835
        }
      },
      "execution_count": 27,
      "outputs": [
        {
          "output_type": "display_data",
          "data": {
            "text/plain": [
              "<Figure size 640x480 with 1 Axes>"
            ],
            "image/png": "[encoded data removed]"
          },
          "metadata": {}
        },
        {
          "output_type": "display_data",
          "data": {
            "text/plain": [
              "<Figure size 640x480 with 1 Axes>"
            ],
            "image/png": "[encoded data removed]"
          },
          "metadata": {}
        }
      ]
    },
    {
      "cell_type": "markdown",
      "source": [
        "#### 2.1.3 Prototypical Network module\n",
        "\n",
        "Now, we define Prototypical Networks as a torch module:\n",
        "\n",
        "1. We initiate `PrototypicalNetworks` with a *backbone*. This is the feature extractor we were talking about.\n",
        "Here, we use as backbone a ResNet18 pretrained on ImageNet, with its head chopped off and replaced by a `Flatten`\n",
        "layer. The output of the backbone, for an input image, will be a 512-dimensional feature vector.\n",
        "2. The forward method doesn't only take one input tensor: in order to predict the labels of query images,\n",
        "we also need support images and labels as inputs of the model."
      ],
      "metadata": {
        "id": "GndA949P0MwJ"
      }
    },
    {
      "cell_type": "code",
      "source": [
        "class PrototypicalNetworks(nn.Module):\n",
        "    def __init__(self, backbone: nn.Module, metric: str = \"sqeuclidean\"):\n",
        "        \"\"\"\n",
        "        Prototypical Networks module.\n",
        "\n",
        "        Args:\n",
        "            backbone: feature extractor (e.g. ResNet18 without final FC).\n",
        "            metric: distance metric (\"sqeuclidean\", \"euclidean\", \"cosine\").\n",
        "        \"\"\"\n",
        "        super().__init__()\n",
        "        self.backbone = backbone\n",
        "        self.metric = metric\n",
        "\n",
        "    def _compute_prototypes(self, z_support: torch.Tensor, support_labels: torch.Tensor):\n",
        "        \"\"\"\n",
        "        Compute class prototypes as the mean of support embeddings.\n",
        "\n",
        "        Args:\n",
        "            z_support: support embeddings, shape (Ns, D)\n",
        "            support_labels: support labels, shape (Ns,)\n",
        "\n",
        "        Returns:\n",
        "            prototypes: (N, D)\n",
        "            classes: (N,) tensor with the class ids (order matches prototypes)\n",
        "        \"\"\"\n",
        "        classes = torch.unique(support_labels)\n",
        "        protos = []\n",
        "        for c in classes:\n",
        "            mask = (support_labels == c)\n",
        "            proto = z_support[mask].mean(dim=0)\n",
        "            protos.append(proto)\n",
        "        prototypes = torch.stack(protos, dim=0)\n",
        "        return prototypes, classes\n",
        "\n",
        "    def _pairwise_distance(self, z_query: torch.Tensor, prototypes: torch.Tensor) -> torch.Tensor:\n",
        "        \"\"\"\n",
        "        Compute distances between query embeddings and prototypes.\n",
        "\n",
        "        Args:\n",
        "            z_query: (Nq, D)\n",
        "            prototypes: (N, D)\n",
        "\n",
        "        Returns:\n",
        "            distances: (Nq, N)\n",
        "        \"\"\"\n",
        "        if self.metric == \"sqeuclidean\":\n",
        "            q2 = (z_query ** 2).sum(dim=1, keepdim=True)      # (Nq, 1)\n",
        "            p2 = (prototypes ** 2).sum(dim=1, keepdim=True).T # (1, N)\n",
        "            cross = z_query @ prototypes.T                    # (Nq, N)\n",
        "            d2 = q2 + p2 - 2 * cross\n",
        "            return d2.clamp_min(0.0)\n",
        "        elif self.metric == \"euclidean\":\n",
        "            return torch.cdist(z_query, prototypes, p=2)\n",
        "        elif self.metric == \"cosine\":\n",
        "            zq = F.normalize(z_query, dim=1)\n",
        "            pr = F.normalize(prototypes, dim=1)\n",
        "            return 1.0 - (zq @ pr.T)\n",
        "        else:\n",
        "            raise ValueError(f\"Unknown metric: {self.metric}\")\n",
        "\n",
        "    def forward(\n",
        "        self,\n",
        "        support_images: torch.Tensor,   # (Ns, C, H, W)\n",
        "        support_labels: torch.Tensor,   # (Ns,) episodic labels [0..N-1]\n",
        "        query_images: torch.Tensor,     # (Nq, C, H, W)\n",
        "    ):\n",
        "        z_support = self.backbone(support_images)\n",
        "        z_query   = self.backbone(query_images)\n",
        "\n",
        "        prototypes, classes = self._compute_prototypes(z_support, support_labels)\n",
        "\n",
        "        dists = self._pairwise_distance(z_query, prototypes)\n",
        "        scores = -dists\n",
        "        return scores, classes\n",
        "\n",
        "\n",
        "# Build backbone (ResNet18 pre-trained on ImageNet, output = 512-D features)\n",
        "backbone = resnet18(weights=\"IMAGENET1K_V1\")\n",
        "backbone.fc = nn.Identity()\n",
        "\n",
        "device = torch.device(\"cuda\" if torch.cuda.is_available() else \"cpu\")\n",
        "model = PrototypicalNetworks(backbone, metric=\"euclidean\").to(device)\n"
      ],
      "metadata": {
        "id": "PJeLHv650dzx",
        "colab": {
          "base_uri": "https://localhost:8080/"
        },
        "outputId": "d7bf8828-19ea-4190-c0a4-a116d403c892"
      },
      "execution_count": 12,
      "outputs": [
        {
          "output_type": "stream",
          "name": "stdout",
          "text": [
            "Downloading: \"https://download.pytorch.org/models/resnet18-f37072fd.pth\" to /root/.cache/torch/hub/checkpoints/resnet18-f37072fd.pth\n"
          ]
        },
        {
          "output_type": "stream",
          "name": "stderr",
          "text": [
            "100%|██████████| 44.7M/44.7M [00:00<00:00, 170MB/s]\n"
          ]
        }
      ]
    },
    {
      "cell_type": "markdown",
      "source": [
        "### **2.2 Baseline evaluation**\n",
        "\n",
        "Let’s draw one episode from the episodic loader, run the model, and print the ground-truth vs predicted class names (when available)."
      ],
      "metadata": {
        "id": "pxDNMg-2D5cs"
      }
    },
    {
      "cell_type": "code",
      "source": [
        "@torch.no_grad()\n",
        "def evaluate(data_loader: DataLoader):\n",
        "    per_episode_acc = []\n",
        "    for (\n",
        "        support_images,\n",
        "        support_labels,\n",
        "        query_images,\n",
        "        query_labels,\n",
        "        _true_class_ids,\n",
        "    ) in data_loader:\n",
        "        model.eval()\n",
        "        scores, _ = model(\n",
        "            support_images.to(device),\n",
        "            support_labels.to(device),\n",
        "            query_images.to(device),\n",
        "        )\n",
        "        preds = scores.argmax(dim=1).cpu()\n",
        "        correct = (preds == query_labels).sum().item()\n",
        "        total = query_labels.numel()\n",
        "        per_episode_acc.append(correct / total)\n",
        "\n",
        "    T = len(per_episode_acc)\n",
        "    mean_acc = sum(per_episode_acc) / T\n",
        "    var = sum((a - mean_acc) ** 2 for a in per_episode_acc) / (T - 1) if T > 1 else 0.0\n",
        "    std = math.sqrt(var)\n",
        "    ci95 = 1.96 * (std / math.sqrt(T)) if T > 0 else 0.0\n",
        "    return T, float(mean_acc), float(ci95)"
      ],
      "metadata": {
        "id": "B-DYyHeAD5FW"
      },
      "execution_count": 13,
      "outputs": []
    },
    {
      "cell_type": "code",
      "source": [
        "model.eval()\n",
        "T, test_acc, test_ci = evaluate(test_loader)\n",
        "print(f\"[test] acc={100*test_acc:.2f}% ± {100*test_ci:.2f}% (95% CI on {T} tasks)\")"
      ],
      "metadata": {
        "colab": {
          "base_uri": "https://localhost:8080/"
        },
        "id": "jBbk_rUFD29z",
        "outputId": "6a7adc87-8979-4f67-f226-df9875ccb24f"
      },
      "execution_count": 14,
      "outputs": [
        {
          "output_type": "stream",
          "name": "stdout",
          "text": [
            "[test] acc=86.33% ± 0.43% (95% CI on 1000 tasks)\n"
          ]
        }
      ]
    },
    {
      "cell_type": "markdown",
      "source": [
        "### **2.3 Episodic fine-tuning**\n",
        "\n",
        "We now **fine-tune episodically** the model on Omniglot *background* (train) split using episodic tasks.\n",
        "Each training step:\n",
        "1) builds an N-way, K-shot task,\n",
        "2) computes class prototypes from the support set,\n",
        "3) predicts query labels,\n",
        "4) updates the encoder with cross-entropy on query predictions.\n",
        "\n",
        "> Note: for a concise notebook we omit a validation split here, but in practice you should keep a validation episodic loader and monitor it for early stopping.\n"
      ],
      "metadata": {
        "id": "1xPrxjUIH_dE"
      }
    },
    {
      "cell_type": "code",
      "source": [
        "# Class albels on training/validaton dataset\n",
        "labels_train_val = get_dataset_labels(train_full)  # shape (N,)\n",
        "classes_train_val = np.unique(labels_train_val)\n",
        "\n",
        "# Extract validation set labels\n",
        "val_ratio = 0.2\n",
        "n_val = max(1, int(len(classes_train_val) * val_ratio))\n",
        "val_classes = set(rng.choice(classes_train_val, size=n_val, replace=False))\n",
        "\n",
        "# Sample indexes for train and validation sets\n",
        "train_idx = [i for i, y in enumerate(labels_train_val) if y not in val_classes]\n",
        "val_idx   = [i for i, y in enumerate(labels_train_val) if y in  val_classes]\n",
        "\n",
        "# Train and validation sets\n",
        "train_set = Subset(train_full, train_idx)\n",
        "val_set   = Subset(val_full,   val_idx)\n",
        "\n",
        "# Label indexes\n",
        "labels_train = labels_train_val[train_idx]\n",
        "labels_val   = labels_train_val[val_idx]\n",
        "\n",
        "# Classes in train/val\n",
        "train_class_indices = {c: np.where(labels_train == c)[0] for c in np.unique(labels_train)}\n",
        "val_class_indices   = {c: np.where(labels_val   == c)[0] for c in np.unique(labels_val)}"
      ],
      "metadata": {
        "id": "yqUhPv5GA9cq"
      },
      "execution_count": 15,
      "outputs": []
    },
    {
      "cell_type": "code",
      "source": [
        "def train_episodic_sampler(class_indices, n_way, k_shot, q_query, n_tasks, rng):\n",
        "    n_per_class = k_shot + q_query\n",
        "    all_classes = list(class_indices.keys())\n",
        "    for _ in range(n_tasks):\n",
        "        chosen = rng.choice(all_classes, size=n_way, replace=False)\n",
        "        batch = []\n",
        "        for c in chosen:\n",
        "            pool = class_indices[c]\n",
        "            if len(pool) < n_per_class:\n",
        "                raise ValueError(f\"Class {c} has only {len(pool)} samples; need {n_per_class}.\")\n",
        "            idx_local = rng.choice(pool, size=n_per_class, replace=False)\n",
        "            batch.append(idx_local)\n",
        "        yield np.concatenate(batch)"
      ],
      "metadata": {
        "id": "nCYu-T7UJcl8"
      },
      "execution_count": 16,
      "outputs": []
    },
    {
      "cell_type": "code",
      "source": [
        "train_collate = partial(episodic_collate_fn, n_way=N_WAY, k_shot=K_SHOT, q_query=Q_QUERY)\n",
        "val_collate   = partial(episodic_collate_fn, n_way=N_WAY, k_shot=K_SHOT, q_query=Q_QUERY)\n",
        "\n",
        "train_loader = DataLoader(\n",
        "    train_set,\n",
        "    batch_sampler=list(train_episodic_sampler(train_class_indices, N_WAY, K_SHOT, Q_QUERY, N_TRAINING_TASKS, rng)),\n",
        "    collate_fn=train_collate,\n",
        "    num_workers=2,\n",
        "    pin_memory=True,\n",
        ")\n",
        "\n",
        "val_loader = DataLoader(\n",
        "    val_set,\n",
        "    batch_sampler=list(train_episodic_sampler(val_class_indices, N_WAY, K_SHOT, Q_QUERY, N_VAL_TASKS, rng)),\n",
        "    collate_fn=val_collate,\n",
        "    num_workers=2,\n",
        "    pin_memory=True,\n",
        ")"
      ],
      "metadata": {
        "id": "DciMNHXIB5Pu"
      },
      "execution_count": 17,
      "outputs": []
    },
    {
      "cell_type": "markdown",
      "source": [
        "#### 2.3.1 Loss, optimizer, and backbone freezing\n",
        "\n",
        "We optimize **cross-entropy** on query predictions using **Adam**.  \n",
        "You may:\n",
        "- fine-tune the whole encoder, or\n",
        "- **freeze** the backbone and train only a small head (not typical for ProtoNets), or\n",
        "- partially unfreeze (e.g., last residual block) for stability on small K.\n"
      ],
      "metadata": {
        "id": "aFORcxfMJird"
      }
    },
    {
      "cell_type": "code",
      "source": [
        "criterion = nn.CrossEntropyLoss()\n",
        "optimizer = optim.Adam(model.parameters(), lr=1e-3, weight_decay=0.0)\n",
        "\n",
        "# Freeze all but the last block\n",
        "if FREEZE_BACKBONE:\n",
        "  for name, p in model.backbone.named_parameters():\n",
        "      p.requires_grad = (\"layer4\" in name)  # only train last block\n",
        "\n",
        "def set_bn_eval(m):\n",
        "    if isinstance(m, nn.BatchNorm2d):\n",
        "        m.eval()\n",
        "        for p in m.parameters():\n",
        "            p.requires_grad = False\n",
        "model.backbone.apply(set_bn_eval)\n",
        "\n",
        "trainable = sum(p.numel() for p in model.parameters() if p.requires_grad)\n",
        "print(f\"Trainable parameters: {(trainable/(10**6)):.2f}M (on {sum(p.numel() for p in model.parameters())/(10**6):.2f}M)\")\n",
        "\n",
        "def sliding_average(xs, k=10):\n",
        "    if len(xs) == 0:\n",
        "        return 0.0\n",
        "    if len(xs) < k:\n",
        "        return float(sum(xs) / len(xs))\n",
        "    return float(sum(xs[-k:]) / k)"
      ],
      "metadata": {
        "colab": {
          "base_uri": "https://localhost:8080/"
        },
        "id": "iJ3wuZuXJhuh",
        "outputId": "b970ad4f-ff16-4b3e-80f2-1a2b9734ffb9"
      },
      "execution_count": 21,
      "outputs": [
        {
          "output_type": "stream",
          "name": "stdout",
          "text": [
            "Trainable parameters: 8.39M (on 11.18M)\n"
          ]
        }
      ]
    },
    {
      "cell_type": "markdown",
      "source": [
        "#### 2.3.2 Episodic training loop"
      ],
      "metadata": {
        "id": "N5dvjwGpLtEq"
      }
    },
    {
      "cell_type": "code",
      "source": [
        "@torch.enable_grad()\n",
        "def fit_one_episode(\n",
        "    support_images: torch.Tensor,\n",
        "    support_labels: torch.Tensor,\n",
        "    query_images: torch.Tensor,\n",
        "    query_labels: torch.Tensor,\n",
        ") -> float:\n",
        "    \"\"\"\n",
        "    Single episodic training step: build prototypes on support, predict queries, optimize CE on query labels.\n",
        "    \"\"\"\n",
        "    model.train()\n",
        "    optimizer.zero_grad()\n",
        "\n",
        "    scores, _ = model(\n",
        "        support_images.to(device),\n",
        "        support_labels.to(device),\n",
        "        query_images.to(device),\n",
        "    )\n",
        "    loss = criterion(scores, query_labels.to(device))\n",
        "    loss.backward()\n",
        "\n",
        "    optimizer.step()\n",
        "    return float(loss.item())"
      ],
      "metadata": {
        "id": "8w1K3f7fMN2j"
      },
      "execution_count": 22,
      "outputs": []
    },
    {
      "cell_type": "code",
      "source": [
        "all_loss  = []\n",
        "best_val_acc = -1.0\n",
        "patience_ctr = 0\n",
        "best_state   = None\n",
        "\n",
        "model.train()\n",
        "with tqdm(enumerate(train_loader), total=len(train_loader), desc=\"Episodic training\") as tq:\n",
        "    for step, (\n",
        "        support_images,\n",
        "        support_labels,\n",
        "        query_images,\n",
        "        query_labels,\n",
        "        _true_class_ids,\n",
        "    ) in tq:\n",
        "        # ---- TRAIN ----\n",
        "        loss_val = fit_one_episode(support_images, support_labels, query_images, query_labels)\n",
        "        all_loss.append(loss_val)\n",
        "\n",
        "        if step % LOG_EVERY == 0:\n",
        "            tq.set_postfix(loss=sliding_average(all_loss, LOG_EVERY))\n",
        "\n",
        "        # ---- PERIODIC VALIDATION ----\n",
        "        if (step + 1) % VAL_EVERY == 0:\n",
        "            model.eval()\n",
        "            T, val_acc, val_ci = evaluate(val_loader)   # evaluation\n",
        "            tq.write(f\"\\t[val] step {step+1:05d}: acc={100*val_acc:.2f}% ± {100*val_ci:.2f}% (CI 95% on {T} tasks)\")\n",
        "\n",
        "            # best model checkpoint\n",
        "            if val_acc > best_val_acc + 1e-6:\n",
        "                best_val_acc = val_acc\n",
        "                patience_ctr = 0\n",
        "                best_state = {\n",
        "                    \"model\": deepcopy(model.state_dict()),\n",
        "                    \"optimizer\": deepcopy(optimizer.state_dict()),\n",
        "                    \"step\": step + 1,\n",
        "                    \"val_acc\": best_val_acc,\n",
        "                }\n",
        "            else:\n",
        "                patience_ctr += 1\n",
        "                if patience_ctr >= PATIENCE:\n",
        "                    tq.write(f\"Early stopping (no improvement for {PATIENCE} validations).\")\n",
        "                    break\n",
        "\n",
        "            model.train()\n",
        "\n",
        "# Restore the best model\n",
        "if best_state is not None:\n",
        "    model.load_state_dict(best_state[\"model\"])\n",
        "    optimizer.load_state_dict(best_state[\"optimizer\"])\n"
      ],
      "metadata": {
        "id": "JMCMHSJrMDkN",
        "outputId": "027210c6-d6c9-4505-9ecf-f7ca848959c1",
        "colab": {
          "base_uri": "https://localhost:8080/"
        }
      },
      "execution_count": 23,
      "outputs": [
        {
          "output_type": "stream",
          "name": "stderr",
          "text": [
            "Episodic training:   3%|▎         | 502/20000 [01:21<28:56:31,  5.34s/it, loss=0.889]"
          ]
        },
        {
          "output_type": "stream",
          "name": "stdout",
          "text": [
            "\t[val] step 00500: acc=88.11% ± 0.45% (CI 95% on 1000 tasks)\n"
          ]
        },
        {
          "output_type": "stream",
          "name": "stderr",
          "text": [
            "Episodic training:   5%|▌         | 1002/20000 [02:43<23:20:38,  4.42s/it, loss=0.878]"
          ]
        },
        {
          "output_type": "stream",
          "name": "stdout",
          "text": [
            "\t[val] step 01000: acc=91.28% ± 0.38% (CI 95% on 1000 tasks)\n"
          ]
        },
        {
          "output_type": "stream",
          "name": "stderr",
          "text": [
            "Episodic training:   8%|▊         | 1503/20000 [03:58<20:06:06,  3.91s/it, loss=0.811]"
          ]
        },
        {
          "output_type": "stream",
          "name": "stdout",
          "text": [
            "\t[val] step 01500: acc=92.35% ± 0.35% (CI 95% on 1000 tasks)\n"
          ]
        },
        {
          "output_type": "stream",
          "name": "stderr",
          "text": [
            "Episodic training:  10%|█         | 2003/20000 [05:15<23:00:02,  4.60s/it, loss=0.635]"
          ]
        },
        {
          "output_type": "stream",
          "name": "stdout",
          "text": [
            "\t[val] step 02000: acc=92.98% ± 0.36% (CI 95% on 1000 tasks)\n"
          ]
        },
        {
          "output_type": "stream",
          "name": "stderr",
          "text": [
            "Episodic training:  13%|█▎        | 2502/20000 [06:27<23:18:41,  4.80s/it, loss=0.667]"
          ]
        },
        {
          "output_type": "stream",
          "name": "stdout",
          "text": [
            "\t[val] step 02500: acc=93.02% ± 0.35% (CI 95% on 1000 tasks)\n"
          ]
        },
        {
          "output_type": "stream",
          "name": "stderr",
          "text": [
            "Episodic training:  15%|█▌        | 3002/20000 [07:40<23:36:00,  5.00s/it, loss=0.72]"
          ]
        },
        {
          "output_type": "stream",
          "name": "stdout",
          "text": [
            "\t[val] step 03000: acc=93.42% ± 0.32% (CI 95% on 1000 tasks)\n"
          ]
        },
        {
          "output_type": "stream",
          "name": "stderr",
          "text": [
            "Episodic training:  18%|█▊        | 3502/20000 [08:52<21:46:30,  4.75s/it, loss=0.644]"
          ]
        },
        {
          "output_type": "stream",
          "name": "stdout",
          "text": [
            "\t[val] step 03500: acc=93.05% ± 0.35% (CI 95% on 1000 tasks)\n"
          ]
        },
        {
          "output_type": "stream",
          "name": "stderr",
          "text": [
            "Episodic training:  20%|██        | 4002/20000 [10:07<20:23:44,  4.59s/it, loss=0.638]"
          ]
        },
        {
          "output_type": "stream",
          "name": "stdout",
          "text": [
            "\t[val] step 04000: acc=93.82% ± 0.31% (CI 95% on 1000 tasks)\n"
          ]
        },
        {
          "output_type": "stream",
          "name": "stderr",
          "text": [
            "Episodic training:  23%|██▎       | 4502/20000 [11:18<20:36:41,  4.79s/it, loss=0.655]"
          ]
        },
        {
          "output_type": "stream",
          "name": "stdout",
          "text": [
            "\t[val] step 04500: acc=93.70% ± 0.32% (CI 95% on 1000 tasks)\n"
          ]
        },
        {
          "output_type": "stream",
          "name": "stderr",
          "text": [
            "Episodic training:  25%|██▌       | 5002/20000 [12:30<18:26:46,  4.43s/it, loss=0.647]"
          ]
        },
        {
          "output_type": "stream",
          "name": "stdout",
          "text": [
            "\t[val] step 05000: acc=94.50% ± 0.29% (CI 95% on 1000 tasks)\n"
          ]
        },
        {
          "output_type": "stream",
          "name": "stderr",
          "text": [
            "Episodic training:  28%|██▊       | 5502/20000 [13:40<14:37:31,  3.63s/it, loss=0.717]"
          ]
        },
        {
          "output_type": "stream",
          "name": "stdout",
          "text": [
            "\t[val] step 05500: acc=94.27% ± 0.32% (CI 95% on 1000 tasks)\n"
          ]
        },
        {
          "output_type": "stream",
          "name": "stderr",
          "text": [
            "Episodic training:  30%|███       | 6002/20000 [14:53<16:17:25,  4.19s/it, loss=0.514]"
          ]
        },
        {
          "output_type": "stream",
          "name": "stdout",
          "text": [
            "\t[val] step 06000: acc=93.96% ± 0.33% (CI 95% on 1000 tasks)\n"
          ]
        },
        {
          "output_type": "stream",
          "name": "stderr",
          "text": [
            "Episodic training:  33%|███▎      | 6503/20000 [16:05<15:26:48,  4.12s/it, loss=0.592]"
          ]
        },
        {
          "output_type": "stream",
          "name": "stdout",
          "text": [
            "\t[val] step 06500: acc=94.43% ± 0.31% (CI 95% on 1000 tasks)\n"
          ]
        },
        {
          "output_type": "stream",
          "name": "stderr",
          "text": [
            "Episodic training:  35%|███▌      | 7002/20000 [17:17<14:37:54,  4.05s/it, loss=0.6]"
          ]
        },
        {
          "output_type": "stream",
          "name": "stdout",
          "text": [
            "\t[val] step 07000: acc=94.16% ± 0.32% (CI 95% on 1000 tasks)\n"
          ]
        },
        {
          "output_type": "stream",
          "name": "stderr",
          "text": [
            "Episodic training:  38%|███▊      | 7502/20000 [18:29<17:09:41,  4.94s/it, loss=0.516]"
          ]
        },
        {
          "output_type": "stream",
          "name": "stdout",
          "text": [
            "\t[val] step 07500: acc=94.91% ± 0.30% (CI 95% on 1000 tasks)\n"
          ]
        },
        {
          "output_type": "stream",
          "name": "stderr",
          "text": [
            "Episodic training:  40%|████      | 8002/20000 [19:42<15:02:12,  4.51s/it, loss=0.533]"
          ]
        },
        {
          "output_type": "stream",
          "name": "stdout",
          "text": [
            "\t[val] step 08000: acc=94.94% ± 0.30% (CI 95% on 1000 tasks)\n"
          ]
        },
        {
          "output_type": "stream",
          "name": "stderr",
          "text": [
            "Episodic training:  43%|████▎     | 8502/20000 [20:53<14:17:20,  4.47s/it, loss=0.553]"
          ]
        },
        {
          "output_type": "stream",
          "name": "stdout",
          "text": [
            "\t[val] step 08500: acc=94.88% ± 0.30% (CI 95% on 1000 tasks)\n"
          ]
        },
        {
          "output_type": "stream",
          "name": "stderr",
          "text": [
            "Episodic training:  45%|████▌     | 9002/20000 [22:05<13:24:41,  4.39s/it, loss=0.56]"
          ]
        },
        {
          "output_type": "stream",
          "name": "stdout",
          "text": [
            "\t[val] step 09000: acc=95.00% ± 0.30% (CI 95% on 1000 tasks)\n"
          ]
        },
        {
          "output_type": "stream",
          "name": "stderr",
          "text": [
            "Episodic training:  48%|████▊     | 9503/20000 [23:17<12:08:07,  4.16s/it, loss=0.526]"
          ]
        },
        {
          "output_type": "stream",
          "name": "stdout",
          "text": [
            "\t[val] step 09500: acc=94.95% ± 0.30% (CI 95% on 1000 tasks)\n"
          ]
        },
        {
          "output_type": "stream",
          "name": "stderr",
          "text": [
            "Episodic training:  50%|█████     | 10002/20000 [24:29<12:15:42,  4.42s/it, loss=0.498]"
          ]
        },
        {
          "output_type": "stream",
          "name": "stdout",
          "text": [
            "\t[val] step 10000: acc=94.51% ± 0.32% (CI 95% on 1000 tasks)\n"
          ]
        },
        {
          "output_type": "stream",
          "name": "stderr",
          "text": [
            "Episodic training:  53%|█████▎    | 10502/20000 [25:41<12:00:24,  4.55s/it, loss=0.486]"
          ]
        },
        {
          "output_type": "stream",
          "name": "stdout",
          "text": [
            "\t[val] step 10500: acc=95.32% ± 0.30% (CI 95% on 1000 tasks)\n"
          ]
        },
        {
          "output_type": "stream",
          "name": "stderr",
          "text": [
            "Episodic training:  55%|█████▌    | 11002/20000 [26:53<11:44:06,  4.70s/it, loss=0.497]"
          ]
        },
        {
          "output_type": "stream",
          "name": "stdout",
          "text": [
            "\t[val] step 11000: acc=95.12% ± 0.30% (CI 95% on 1000 tasks)\n"
          ]
        },
        {
          "output_type": "stream",
          "name": "stderr",
          "text": [
            "Episodic training:  58%|█████▊    | 11502/20000 [28:05<9:09:22,  3.88s/it, loss=0.419] "
          ]
        },
        {
          "output_type": "stream",
          "name": "stdout",
          "text": [
            "\t[val] step 11500: acc=94.91% ± 0.32% (CI 95% on 1000 tasks)\n"
          ]
        },
        {
          "output_type": "stream",
          "name": "stderr",
          "text": [
            "Episodic training:  60%|██████    | 12003/20000 [29:17<9:28:49,  4.27s/it, loss=0.458] "
          ]
        },
        {
          "output_type": "stream",
          "name": "stdout",
          "text": [
            "\t[val] step 12000: acc=95.44% ± 0.29% (CI 95% on 1000 tasks)\n"
          ]
        },
        {
          "output_type": "stream",
          "name": "stderr",
          "text": [
            "Episodic training:  63%|██████▎   | 12502/20000 [30:31<9:13:46,  4.43s/it, loss=0.425] "
          ]
        },
        {
          "output_type": "stream",
          "name": "stdout",
          "text": [
            "\t[val] step 12500: acc=95.21% ± 0.29% (CI 95% on 1000 tasks)\n"
          ]
        },
        {
          "output_type": "stream",
          "name": "stderr",
          "text": [
            "Episodic training:  65%|██████▌   | 13002/20000 [31:43<7:43:06,  3.97s/it, loss=0.502] "
          ]
        },
        {
          "output_type": "stream",
          "name": "stdout",
          "text": [
            "\t[val] step 13000: acc=95.52% ± 0.28% (CI 95% on 1000 tasks)\n"
          ]
        },
        {
          "output_type": "stream",
          "name": "stderr",
          "text": [
            "Episodic training:  68%|██████▊   | 13502/20000 [32:55<9:04:20,  5.03s/it, loss=0.479] "
          ]
        },
        {
          "output_type": "stream",
          "name": "stdout",
          "text": [
            "\t[val] step 13500: acc=95.27% ± 0.30% (CI 95% on 1000 tasks)\n"
          ]
        },
        {
          "output_type": "stream",
          "name": "stderr",
          "text": [
            "Episodic training:  70%|███████   | 14002/20000 [34:07<7:42:42,  4.63s/it, loss=0.444] "
          ]
        },
        {
          "output_type": "stream",
          "name": "stdout",
          "text": [
            "\t[val] step 14000: acc=95.16% ± 0.30% (CI 95% on 1000 tasks)\n"
          ]
        },
        {
          "output_type": "stream",
          "name": "stderr",
          "text": [
            "Episodic training:  73%|███████▎  | 14502/20000 [35:18<6:32:21,  4.28s/it, loss=0.53]"
          ]
        },
        {
          "output_type": "stream",
          "name": "stdout",
          "text": [
            "\t[val] step 14500: acc=95.75% ± 0.27% (CI 95% on 1000 tasks)\n"
          ]
        },
        {
          "output_type": "stream",
          "name": "stderr",
          "text": [
            "Episodic training:  75%|███████▌  | 15002/20000 [36:30<6:47:45,  4.90s/it, loss=0.51]"
          ]
        },
        {
          "output_type": "stream",
          "name": "stdout",
          "text": [
            "\t[val] step 15000: acc=95.38% ± 0.29% (CI 95% on 1000 tasks)\n"
          ]
        },
        {
          "output_type": "stream",
          "name": "stderr",
          "text": [
            "Episodic training:  78%|███████▊  | 15502/20000 [37:42<5:26:33,  4.36s/it, loss=0.435]"
          ]
        },
        {
          "output_type": "stream",
          "name": "stdout",
          "text": [
            "\t[val] step 15500: acc=95.97% ± 0.27% (CI 95% on 1000 tasks)\n"
          ]
        },
        {
          "output_type": "stream",
          "name": "stderr",
          "text": [
            "Episodic training:  80%|████████  | 16002/20000 [38:54<5:34:05,  5.01s/it, loss=0.472]"
          ]
        },
        {
          "output_type": "stream",
          "name": "stdout",
          "text": [
            "\t[val] step 16000: acc=95.53% ± 0.29% (CI 95% on 1000 tasks)\n"
          ]
        },
        {
          "output_type": "stream",
          "name": "stderr",
          "text": [
            "Episodic training:  83%|████████▎ | 16503/20000 [40:06<3:23:29,  3.49s/it, loss=0.501]"
          ]
        },
        {
          "output_type": "stream",
          "name": "stdout",
          "text": [
            "\t[val] step 16500: acc=96.04% ± 0.27% (CI 95% on 1000 tasks)\n"
          ]
        },
        {
          "output_type": "stream",
          "name": "stderr",
          "text": [
            "Episodic training:  85%|████████▌ | 17002/20000 [41:17<3:15:48,  3.92s/it, loss=0.446]"
          ]
        },
        {
          "output_type": "stream",
          "name": "stdout",
          "text": [
            "\t[val] step 17000: acc=95.98% ± 0.27% (CI 95% on 1000 tasks)\n"
          ]
        },
        {
          "output_type": "stream",
          "name": "stderr",
          "text": [
            "Episodic training:  88%|████████▊ | 17502/20000 [42:29<3:28:51,  5.02s/it, loss=0.415]"
          ]
        },
        {
          "output_type": "stream",
          "name": "stdout",
          "text": [
            "\t[val] step 17500: acc=96.15% ± 0.27% (CI 95% on 1000 tasks)\n"
          ]
        },
        {
          "output_type": "stream",
          "name": "stderr",
          "text": [
            "Episodic training:  90%|█████████ | 18002/20000 [43:41<2:28:34,  4.46s/it, loss=0.464]"
          ]
        },
        {
          "output_type": "stream",
          "name": "stdout",
          "text": [
            "\t[val] step 18000: acc=96.26% ± 0.27% (CI 95% on 1000 tasks)\n"
          ]
        },
        {
          "output_type": "stream",
          "name": "stderr",
          "text": [
            "Episodic training:  93%|█████████▎| 18502/20000 [44:53<2:04:07,  4.97s/it, loss=0.489]"
          ]
        },
        {
          "output_type": "stream",
          "name": "stdout",
          "text": [
            "\t[val] step 18500: acc=96.04% ± 0.27% (CI 95% on 1000 tasks)\n"
          ]
        },
        {
          "output_type": "stream",
          "name": "stderr",
          "text": [
            "Episodic training:  95%|█████████▌| 19002/20000 [46:05<1:24:04,  5.05s/it, loss=0.417]"
          ]
        },
        {
          "output_type": "stream",
          "name": "stdout",
          "text": [
            "\t[val] step 19000: acc=95.44% ± 0.29% (CI 95% on 1000 tasks)\n"
          ]
        },
        {
          "output_type": "stream",
          "name": "stderr",
          "text": [
            "Episodic training:  98%|█████████▊| 19502/20000 [47:19<38:30,  4.64s/it, loss=0.43]"
          ]
        },
        {
          "output_type": "stream",
          "name": "stdout",
          "text": [
            "\t[val] step 19500: acc=95.48% ± 0.30% (CI 95% on 1000 tasks)\n"
          ]
        },
        {
          "output_type": "stream",
          "name": "stderr",
          "text": [
            "Episodic training: 100%|██████████| 20000/20000 [48:31<00:00,  6.87it/s, loss=0.393]"
          ]
        },
        {
          "output_type": "stream",
          "name": "stdout",
          "text": [
            "\t[val] step 20000: acc=96.19% ± 0.26% (CI 95% on 1000 tasks)\n"
          ]
        },
        {
          "output_type": "stream",
          "name": "stderr",
          "text": [
            "\n"
          ]
        }
      ]
    },
    {
      "cell_type": "markdown",
      "source": [
        "#### Final evaluation\n",
        "\n",
        "After the episodic fine-tuning, evaluate again on the **test split** with episodic testing (same as before), reporting **mean accuracy ± 95% CI** over `N_EVAL_TASKS` episodes.\n"
      ],
      "metadata": {
        "id": "qGw44tzDL2pt"
      }
    },
    {
      "cell_type": "code",
      "source": [
        "model.eval()\n",
        "T, test_acc, test_ci = evaluate(test_loader)\n",
        "print(f\"[test] acc={100*test_acc:.2f}% ± {100*test_ci:.2f}% (95% CI on {T} tasks)\")"
      ],
      "metadata": {
        "id": "byoOYk_rTeAt",
        "outputId": "80f3360f-4ee1-4db3-be27-c9203e15cbbd",
        "colab": {
          "base_uri": "https://localhost:8080/"
        }
      },
      "execution_count": 24,
      "outputs": [
        {
          "output_type": "stream",
          "name": "stdout",
          "text": [
            "[test] acc=94.58% ± 0.30% (95% CI on 1000 tasks)\n"
          ]
        }
      ]
    }
  ]
}