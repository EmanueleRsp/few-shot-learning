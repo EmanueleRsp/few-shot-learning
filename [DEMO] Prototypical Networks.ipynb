{
  "nbformat": 4,
  "nbformat_minor": 0,
  "metadata": {
    "colab": {
      "provenance": [],
      "gpuType": "T4"
    },
    "kernelspec": {
      "name": "python3",
      "display_name": "Python 3"
    },
    "language_info": {
      "name": "python"
    },
    "accelerator": "GPU"
  },
  "cells": [
    {
      "cell_type": "markdown",
      "source": [
        "# **Prototypical Networks for Few-Shot Learning on Omniglot**\n",
        "\n",
        "*Based on this [colab notebook](https://colab.research.google.com/drive/1TPL2e3v8zcDK00ABqH3R0XXNJtJnLBCd?usp=sharing).*\n",
        "\n",
        "This notebook offers a demonstration of metric-based Few-Shot Learning (FSL) using **Prototypical Networks** on the **Omniglot** benchmark."
      ],
      "metadata": {
        "id": "UnWMR-UREveO"
      }
    },
    {
      "cell_type": "markdown",
      "source": [
        "---"
      ],
      "metadata": {
        "id": "WRwq8f58yeZs"
      }
    },
    {
      "cell_type": "markdown",
      "source": [
        "## **1. Background**\n",
        "\n",
        "### **1.1 Few-Shot Learning (FSL)**\n",
        "\n",
        "In FSL we evaluate and train **episodically**. Each **episode** samples $N$ classes (*N-way*). For each class $K$, we are given a small **support set** $S_k$ of size $K$ (*K-shot*) and a **query set** $Q_k$.  \n",
        "\n",
        "The learner must classify each query among the $N$ classes using **only** the $N \\times K$ labeled supports from that episode.  \n",
        "Crucially, the classes in an episode are typically **unseen during training**; the model must leverage the supports as a “catalog” describing what each class looks like.\n",
        "\n",
        "> **Example (3-way 2-shot):** the support contains 2 examples for each of 3 classes. For every query image, the learner must predict its label among those 3 classes.\n",
        "\n",
        "In practice, many methods are **metric-based**:  \n",
        "1. use an encoder to project images into a **feature space**,  \n",
        "2. classify queries by comparing them to the supports in that space.\n",
        "\n",
        "*(Evaluation tip: report mean accuracy over many episodes, e.g. $T = 10{,}000$, with a 95% confidence interval.)*\n",
        "\n",
        "\n",
        "![few-shot classification task](https://images.ctfassets.net/be04ylp8y0qc/bZhboqYXfYeW4I88xmMNv/7c5efdc368206feaad045c674b1ced95/1_AteD0yXLkQ1BbjQTB3Ytwg.png?fm=webp)"
      ],
      "metadata": {
        "id": "aw_DqtwxFaSF"
      }
    },
    {
      "cell_type": "markdown",
      "source": [
        "### **1.2 Prototypical Networks**\n",
        "\n",
        "Let $ f_\\phi(\\cdot) $ be an embedding function (a neural encoder).  \n",
        "For each class $K$ in an episode, we compute the **prototype** as the mean embedding of its supports:\n",
        "\n",
        "$$\n",
        "\\mathbf{c}_k \\;=\\; \\frac{1}{|S_k|} \\sum_{(x,y)\\in S_k} f_\\phi(x).\n",
        "$$\n",
        "\n",
        "Given a query $x$, we score classes via the **negative distance** between its embedding and each prototype:\n",
        "\n",
        "\n",
        "$$\n",
        "\\text{logit}_k(x) \\;=\\; -\\, d\\!\\big(f_\\phi(x), \\mathbf{c}_k\\big),\n",
        "$$\n",
        "\n",
        "where $ d(\\cdot,\\cdot) $ is typically the **squared Euclidean** or **(negative) cosine** distance.\n",
        "\n",
        "The class probabilities are obtained with a softmax:\n",
        "\n",
        "$$\n",
        "p_\\phi(y = k \\mid x) \\;=\\;\n",
        "\\frac{\\exp\\!\\left(-d(f_\\phi(x), \\mathbf{c}_k)\\right)}\n",
        "{\\sum_{j=1}^{N} \\exp\\!\\left(-d(f_\\phi(x), \\mathbf{c}_j)\\right)}.\n",
        "$$\n",
        "\n",
        "The model is trained **episodically** by minimizing the **cross-entropy loss** over the query labels within each episode.\n",
        "\n",
        "\n",
        "![Prototypical classification](https://images.ctfassets.net/be04ylp8y0qc/45M9UcUp6KnzwDaBHeGZb7/bb2dcda5942ee7320600125ac2310af6/0_M0GSRZri859fGo48.png?fm=webp)\n",
        "\n",
        "\n",
        "**Notes (implementation):**\n",
        "- The forward pass usually receives **support images, support labels, and query images**; prototypes are computed on-the-fly.  \n",
        "- A common backbone is a pretrained CNN (e.g., ResNet-18) with its classifier head removed.  \n",
        "- When using cosine distance, embeddings are often **$\\ell_2$-normalized**:  \n",
        "  $ f_\\phi(x) \\leftarrow f_\\phi(x) / \\| f_\\phi(x) \\| $.\n"
      ],
      "metadata": {
        "id": "cec-v_54xCDC"
      }
    },
    {
      "cell_type": "markdown",
      "source": [
        "### **1.3 Omniglot dataset**\n",
        "We'll use [Omniglot](https://github.com/brendenlake/omniglot), a popular MNIST-like benchmark\n",
        "for few-shot classification. It contains 1623 characters from 50 different alphabets. Each character has been written by\n",
        "20 different people.\n",
        "\n",
        "It's part of the `torchivision` package, so it's easy to download\n",
        "and work with."
      ],
      "metadata": {
        "id": "i0C2-RwkxDHY"
      }
    },
    {
      "cell_type": "markdown",
      "source": [
        "---"
      ],
      "metadata": {
        "id": "mcC8Q_a3yYtK"
      }
    },
    {
      "cell_type": "markdown",
      "source": [
        "## **2. Practice**"
      ],
      "metadata": {
        "id": "46OYMaAHzarf"
      }
    },
    {
      "cell_type": "code",
      "source": [
        "import numpy as np\n",
        "import pandas as pd\n",
        "import torch\n",
        "import math\n",
        "import torch.nn.functional as F\n",
        "import torch.optim as optim\n",
        "\n",
        "from torch import Tensor, nn, optim\n",
        "from torch.utils.data import DataLoader, Subset\n",
        "from torchvision import transforms, utils\n",
        "from torchvision.datasets import Omniglot\n",
        "from torchvision.models import resnet18\n",
        "from tqdm import tqdm\n",
        "from functools import partial\n",
        "from matplotlib import pyplot as plt"
      ],
      "metadata": {
        "id": "wQG0BJXyzaVl"
      },
      "execution_count": 1,
      "outputs": []
    },
    {
      "cell_type": "code",
      "source": [
        "# Reproducibility\n",
        "SEED = 42\n",
        "rng = np.random.default_rng(SEED)\n",
        "torch.manual_seed(SEED)"
      ],
      "metadata": {
        "colab": {
          "base_uri": "https://localhost:8080/"
        },
        "id": "mTBYvx0RKLZ8",
        "outputId": "eba0a261-6d9e-4c38-b85b-47c4358c4554"
      },
      "execution_count": 2,
      "outputs": [
        {
          "output_type": "execute_result",
          "data": {
            "text/plain": [
              "<torch._C.Generator at 0x784f73e23c70>"
            ]
          },
          "metadata": {},
          "execution_count": 2
        }
      ]
    },
    {
      "cell_type": "code",
      "source": [
        "# Few-shot episode configuration\n",
        "N_WAY = 5        # Number of classes per task\n",
        "K_SHOT = 5       # Support examples per class\n",
        "Q_QUERY = 10     # Query examples per class\n",
        "FREEZE_BACKBONE = True\n",
        "N_TRAINING_TASKS = 20_000 # Number of training episodes\n",
        "N_VAL_TASKS = 1_000   # Number of validation episodes\n",
        "N_TEST_TASKS = 100        # Number of test episodes"
      ],
      "metadata": {
        "id": "kMoqAziQ--Gu"
      },
      "execution_count": 3,
      "outputs": []
    },
    {
      "cell_type": "code",
      "source": [
        "# Utility\n",
        "def plot_images(images: Tensor, title: str, images_per_row: int):\n",
        "    \"\"\"\n",
        "    Plot images in a grid.\n",
        "    Args:\n",
        "        images: 4D mini-batch Tensor of shape (B x C x H x W)\n",
        "        title: title of the figure to plot\n",
        "        images_per_row: number of images in each row of the grid\n",
        "    \"\"\"\n",
        "    plt.figure()\n",
        "    plt.title(title)\n",
        "    plt.imshow(\n",
        "        utils.make_grid(images, nrow=images_per_row).permute(1, 2, 0)\n",
        "    )"
      ],
      "metadata": {
        "id": "fXDfXQC59J8q"
      },
      "execution_count": 4,
      "outputs": []
    },
    {
      "cell_type": "markdown",
      "source": [
        "### **2.1 Environment**"
      ],
      "metadata": {
        "id": "pcyzskpDDiHX"
      }
    },
    {
      "cell_type": "markdown",
      "source": [
        "#### 2.1.1 Omniglot dataset\n",
        "\n",
        "We prepare the Omniglot dataset:"
      ],
      "metadata": {
        "id": "g6TMsFobzwsP"
      }
    },
    {
      "cell_type": "code",
      "source": [
        "image_size = 28\n",
        "\n",
        "train_tf = transforms.Compose([\n",
        "    transforms.Grayscale(num_output_channels=3),\n",
        "    transforms.RandomResizedCrop(image_size),\n",
        "    transforms.RandomHorizontalFlip(),\n",
        "    transforms.ToTensor(),\n",
        "])\n",
        "\n",
        "eval_tf = transforms.Compose([\n",
        "    transforms.Grayscale(num_output_channels=3),\n",
        "    transforms.Resize([int(image_size * 1.15), int(image_size * 1.15)]),\n",
        "    transforms.CenterCrop(image_size),\n",
        "    transforms.ToTensor(),\n",
        "])"
      ],
      "metadata": {
        "id": "yZctOKZV8Pl0"
      },
      "execution_count": 5,
      "outputs": []
    },
    {
      "cell_type": "code",
      "source": [
        "train_full = Omniglot(root=\"./data\", background=True, transform=train_tf, download=True)\n",
        "val_full   = Omniglot(root=\"./data\", background=True, transform=eval_tf,  download=True)\n",
        "test_set   = Omniglot(root=\"./data\", background=False, transform=eval_tf, download=True)"
      ],
      "metadata": {
        "id": "LpoDLwAuz6df"
      },
      "execution_count": 6,
      "outputs": []
    },
    {
      "cell_type": "code",
      "source": [
        "def get_dataset_labels(ds):\n",
        "    \"\"\"\n",
        "    Return a 1D numpy array of dataset labels for common torchvision datasets.\n",
        "    Tries several known attributes, then falls back to a light scan.\n",
        "    \"\"\"\n",
        "    # 1) Standard torchvision datasets (e.g., CIFAR, MNIST)\n",
        "    if hasattr(ds, \"targets\") and len(ds.targets) > 0:\n",
        "        return np.array(ds.targets)\n",
        "\n",
        "    # 2) Some datasets use .labels\n",
        "    if hasattr(ds, \"labels\") and len(ds.labels) > 0:\n",
        "        return np.array(ds.labels)\n",
        "\n",
        "    # 3) Omniglot (torchvision) keeps a flat list of (path, class_idx)\n",
        "    if hasattr(ds, \"_flat_character_images\") and len(ds._flat_character_images) > 0:\n",
        "        return np.array([lbl for _, lbl in ds._flat_character_images])\n",
        "\n",
        "    # 4) Fallback: iterate WITHOUT forcing heavy transforms if possible.\n",
        "    labels = []\n",
        "    for i in range(len(ds)):\n",
        "        _, y = ds[i]\n",
        "        labels.append(int(y))\n",
        "    return np.array(labels)"
      ],
      "metadata": {
        "id": "_03DmZQu8wg-"
      },
      "execution_count": 7,
      "outputs": []
    },
    {
      "cell_type": "markdown",
      "source": [
        "#### 2.1.2 Episodic DataLoader\n",
        "\n",
        "Now that we have a model, we need to evaluate it on **few-shot tasks**.\n",
        "A standard PyTorch `DataLoader` builds mini-batches of images without\n",
        "considering whether they belong to a support or query set.\n",
        "For few-shot learning, we need something more specific:\n",
        "\n",
        "1. **Balanced classes**: each batch must contain examples from exactly `n_way` classes.\n",
        "2. **Support / query split**: for each class, we need `k_shot` images in the support set\n",
        "   and `q_query` images in the query set.\n",
        "\n",
        "To achieve this, we use a custom **task sampler** and a custom **collate function**:\n",
        "\n",
        "- The sampler samples `n_way` classes and then `k_shot + q_query` images from each class.\n",
        "- The collate function splits the sampled images into 5 items:\n",
        "  1. support images\n",
        "  2. support labels (in range `[0, n_way)`)\n",
        "  3. query images\n",
        "  4. query labels (in range `[0, n_way)`)\n",
        "  5. a mapping from episodic labels `[0, n_way)` to their original dataset labels\n",
        "\n",
        "This way, each batch is a complete *episode* for few-shot training or evaluation.\n"
      ],
      "metadata": {
        "id": "jF4bUd7z0c7W"
      }
    },
    {
      "cell_type": "code",
      "source": [
        "def episodic_collate_fn(\n",
        "    batch,\n",
        "    n_way: int,\n",
        "    k_shot: int,\n",
        "    q_query: int,\n",
        "):\n",
        "    \"\"\"\n",
        "    Return the same output format as easy-fsl's TaskSampler.episodic_collate_fn.\n",
        "\n",
        "    Args:\n",
        "        batch: list of (image, label) pairs sampled episodically, grouped by class.\n",
        "    Returns:\n",
        "        support_images: (n_way * k_shot, C, H, W)\n",
        "        support_labels: (n_way * k_shot,)   values in [0, n_way)\n",
        "        query_images:   (n_way * q_query, C, H, W)\n",
        "        query_labels:   (n_way * q_query,)  values in [0, n_way)\n",
        "        true_class_ids: list[int] of original dataset class ids (len = n_way)\n",
        "    \"\"\"\n",
        "    # Unzip images and labels\n",
        "    imgs, labs = zip(*batch)\n",
        "\n",
        "    # Ensure tensors (most torchvision datasets already return tensors)\n",
        "    if not torch.is_tensor(imgs[0]):\n",
        "        # If your dataset returns PIL images, convert to tensor here or in the dataset __getitem__\n",
        "        imgs = [torch.as_tensor(np.array(im)).permute(2, 0, 1) for im in imgs]\n",
        "\n",
        "    images = torch.stack(imgs)              # (n_way*(k_shot+q_query), C, H, W)\n",
        "    labels = torch.tensor([int(l) for l in labs])  # original dataset labels\n",
        "\n",
        "    n_per = k_shot + q_query\n",
        "    assert images.size(0) == n_way * n_per, \"Batch size doesn't match n_way*(k_shot+q_query)\"\n",
        "\n",
        "    # Reshape by class assuming sampler concatenated per-class blocks in order\n",
        "    images = images.view(n_way, n_per, *images.shape[1:])  # (N, S+Q, C, H, W)\n",
        "    labels = labels.view(n_way, n_per)                     # (N, S+Q)\n",
        "\n",
        "    # True class ids = first label of each class block (original dataset ids)\n",
        "    true_class_ids = [int(labels[i, 0].item()) for i in range(n_way)]\n",
        "\n",
        "    # Map dataset labels -> episodic labels [0..n_way)\n",
        "    label_map = {cid: i for i, cid in enumerate(true_class_ids)}\n",
        "    episodic_labels = labels.clone()\n",
        "    for i, cid in enumerate(true_class_ids):\n",
        "        episodic_labels[i] = label_map[cid]\n",
        "\n",
        "    # Split support / query\n",
        "    support_images = images[:, :k_shot].reshape(-1, *images.shape[2:])\n",
        "    query_images   = images[:, k_shot:].reshape(-1, *images.shape[2:])\n",
        "    support_labels = episodic_labels[:, :k_shot].reshape(-1)\n",
        "    query_labels   = episodic_labels[:, k_shot:].reshape(-1)\n",
        "\n",
        "    return support_images, support_labels, query_images, query_labels, true_class_ids"
      ],
      "metadata": {
        "id": "T-IK4rFO93sW"
      },
      "execution_count": 8,
      "outputs": []
    },
    {
      "cell_type": "code",
      "source": [
        "def test_episodic_sampler(n_way, k_shot, q_query, n_tasks):\n",
        "    \"\"\"\n",
        "    Yield lists of indices for episodic tasks.\n",
        "    Each list has n_way * (k_shot + q_query) indices, grouped by class.\n",
        "    \"\"\"\n",
        "    n_per_class = k_shot + q_query\n",
        "    for _ in range(n_tasks):\n",
        "        chosen = np.random.choice(list(class_indices.keys()), size=n_way, replace=False)\n",
        "        batch = []\n",
        "        for c in chosen:\n",
        "            pool = class_indices[c]\n",
        "            if len(pool) < n_per_class:\n",
        "                raise ValueError(\n",
        "                    f\"Class {c} has only {len(pool)} samples; need {n_per_class} \"\n",
        "                    f\"(k_shot + q_query).\"\n",
        "                )\n",
        "            idx = np.random.choice(pool, size=n_per_class, replace=False)\n",
        "            batch.append(idx)\n",
        "        # Concatenate in the order of 'chosen' so we can reshape by class later\n",
        "        yield np.concatenate(batch)"
      ],
      "metadata": {
        "id": "TEG58mnp988b"
      },
      "execution_count": 9,
      "outputs": []
    },
    {
      "cell_type": "code",
      "source": [
        "# We retrieve labels\n",
        "labels_test = get_dataset_labels(test_set)\n",
        "class_indices = {c: np.where(labels_test == c)[0] for c in np.unique(labels_test)}\n",
        "\n",
        "# Build episodic DataLoader\n",
        "collate = partial(episodic_collate_fn, n_way=N_WAY, k_shot=K_SHOT, q_query=Q_QUERY)\n",
        "\n",
        "test_loader = DataLoader(\n",
        "    test_set,\n",
        "    batch_sampler=list(test_episodic_sampler(N_WAY, K_SHOT, Q_QUERY, N_TEST_TASKS)),\n",
        "    collate_fn=collate,\n",
        "    num_workers=4,\n",
        "    pin_memory=True,\n",
        ")"
      ],
      "metadata": {
        "colab": {
          "base_uri": "https://localhost:8080/"
        },
        "id": "w2MbMUPu4F4n",
        "outputId": "0fd7f227-9d92-4860-87fe-26815c9c6216"
      },
      "execution_count": 10,
      "outputs": [
        {
          "output_type": "stream",
          "name": "stderr",
          "text": [
            "/usr/local/lib/python3.12/dist-packages/torch/utils/data/dataloader.py:627: UserWarning: This DataLoader will create 4 worker processes in total. Our suggested max number of worker in current system is 2, which is smaller than what this DataLoader is going to create. Please be aware that excessive worker creation might get DataLoader running slow or even freeze, lower the worker number to avoid potential slowness/freeze if necessary.\n",
            "  warnings.warn(\n"
          ]
        }
      ]
    },
    {
      "cell_type": "code",
      "source": [
        "(\n",
        "    example_support_images,\n",
        "    example_support_labels,\n",
        "    example_query_images,\n",
        "    example_query_labels,\n",
        "    example_class_ids,\n",
        ") = next(iter(test_loader))\n",
        "\n",
        "plot_images(example_support_images, \"support images\", images_per_row=K_SHOT)\n",
        "plot_images(example_query_images, \"query images\", images_per_row=Q_QUERY)"
      ],
      "metadata": {
        "colab": {
          "base_uri": "https://localhost:8080/",
          "height": 767
        },
        "id": "lcobZSV48jOQ",
        "outputId": "974a0539-97f9-4c97-de86-edb2d62928fe"
      },
      "execution_count": 11,
      "outputs": [
        {
          "output_type": "display_data",
          "data": {
            "text/plain": [
              "<Figure size 640x480 with 1 Axes>"
            ],
            "image/png": "[encoded data removed]"
          },
          "metadata": {}
        },
        {
          "output_type": "display_data",
          "data": {
            "text/plain": [
              "<Figure size 640x480 with 1 Axes>"
            ],
            "image/png": "[encoded data removed]"
          },
          "metadata": {}
        }
      ]
    },
    {
      "cell_type": "markdown",
      "source": [
        "#### 2.1.3 Prototypical Network module\n",
        "\n",
        "Now, we define Prototypical Networks as a torch module:\n",
        "\n",
        "1. We initiate `PrototypicalNetworks` with a *backbone*. This is the feature extractor we were talking about.\n",
        "Here, we use as backbone a ResNet18 pretrained on ImageNet, with its head chopped off and replaced by a `Flatten`\n",
        "layer. The output of the backbone, for an input image, will be a 512-dimensional feature vector.\n",
        "2. The forward method doesn't only take one input tensor: in order to predict the labels of query images,\n",
        "we also need support images and labels as inputs of the model."
      ],
      "metadata": {
        "id": "GndA949P0MwJ"
      }
    },
    {
      "cell_type": "code",
      "source": [
        "class PrototypicalNetworks(nn.Module):\n",
        "    def __init__(self, backbone: nn.Module, metric: str = \"sqeuclidean\"):\n",
        "        \"\"\"\n",
        "        Prototypical Networks module.\n",
        "\n",
        "        Args:\n",
        "            backbone: feature extractor (e.g. ResNet18 without final FC).\n",
        "            metric: distance metric (\"sqeuclidean\", \"euclidean\", \"cosine\").\n",
        "        \"\"\"\n",
        "        super().__init__()\n",
        "        self.backbone = backbone\n",
        "        self.metric = metric\n",
        "\n",
        "    def _compute_prototypes(self, z_support: torch.Tensor, support_labels: torch.Tensor):\n",
        "        \"\"\"\n",
        "        Compute class prototypes as the mean of support embeddings.\n",
        "\n",
        "        Args:\n",
        "            z_support: support embeddings, shape (Ns, D)\n",
        "            support_labels: support labels, shape (Ns,)\n",
        "\n",
        "        Returns:\n",
        "            prototypes: (N, D)\n",
        "            classes: (N,) tensor with the class ids (order matches prototypes)\n",
        "        \"\"\"\n",
        "        classes = torch.unique(support_labels)\n",
        "        protos = []\n",
        "        for c in classes:\n",
        "            mask = (support_labels == c)\n",
        "            proto = z_support[mask].mean(dim=0)\n",
        "            protos.append(proto)\n",
        "        prototypes = torch.stack(protos, dim=0)\n",
        "        return prototypes, classes\n",
        "\n",
        "    def _pairwise_distance(self, z_query: torch.Tensor, prototypes: torch.Tensor) -> torch.Tensor:\n",
        "        \"\"\"\n",
        "        Compute distances between query embeddings and prototypes.\n",
        "\n",
        "        Args:\n",
        "            z_query: (Nq, D)\n",
        "            prototypes: (N, D)\n",
        "\n",
        "        Returns:\n",
        "            distances: (Nq, N)\n",
        "        \"\"\"\n",
        "        if self.metric == \"sqeuclidean\":\n",
        "            q2 = (z_query ** 2).sum(dim=1, keepdim=True)      # (Nq, 1)\n",
        "            p2 = (prototypes ** 2).sum(dim=1, keepdim=True).T # (1, N)\n",
        "            cross = z_query @ prototypes.T                    # (Nq, N)\n",
        "            d2 = q2 + p2 - 2 * cross\n",
        "            return d2.clamp_min(0.0)\n",
        "        elif self.metric == \"euclidean\":\n",
        "            return torch.cdist(z_query, prototypes, p=2)\n",
        "        elif self.metric == \"cosine\":\n",
        "            zq = F.normalize(z_query, dim=1)\n",
        "            pr = F.normalize(prototypes, dim=1)\n",
        "            return 1.0 - (zq @ pr.T)\n",
        "        else:\n",
        "            raise ValueError(f\"Unknown metric: {self.metric}\")\n",
        "\n",
        "    def forward(\n",
        "        self,\n",
        "        support_images: torch.Tensor,   # (Ns, C, H, W)\n",
        "        support_labels: torch.Tensor,   # (Ns,) episodic labels [0..N-1]\n",
        "        query_images: torch.Tensor,     # (Nq, C, H, W)\n",
        "    ):\n",
        "        z_support = self.backbone(support_images)\n",
        "        z_query   = self.backbone(query_images)\n",
        "\n",
        "        prototypes, classes = self._compute_prototypes(z_support, support_labels)\n",
        "\n",
        "        dists = self._pairwise_distance(z_query, prototypes)\n",
        "        scores = -dists\n",
        "        return scores, classes\n",
        "\n",
        "\n",
        "# Build backbone (ResNet18 pre-trained on ImageNet, output = 512-D features)\n",
        "backbone = resnet18(weights=\"IMAGENET1K_V1\")\n",
        "backbone.fc = nn.Identity()\n",
        "\n",
        "device = torch.device(\"cuda\" if torch.cuda.is_available() else \"cpu\")\n",
        "model = PrototypicalNetworks(backbone, metric=\"euclidean\").to(device)\n"
      ],
      "metadata": {
        "id": "PJeLHv650dzx"
      },
      "execution_count": 12,
      "outputs": []
    },
    {
      "cell_type": "markdown",
      "source": [
        "### **2.2 Baseline evaluation**\n",
        "\n",
        "Let’s draw one episode from the episodic loader, run the model, and print the ground-truth vs predicted class names (when available)."
      ],
      "metadata": {
        "id": "pxDNMg-2D5cs"
      }
    },
    {
      "cell_type": "code",
      "source": [
        "@torch.no_grad()\n",
        "def evaluate_on_one_task(\n",
        "    support_images: torch.Tensor,\n",
        "    support_labels: torch.Tensor,\n",
        "    query_images: torch.Tensor,\n",
        "    query_labels: torch.Tensor,\n",
        ") -> tuple[int, int]:\n",
        "    model.eval()\n",
        "    scores, _ = model(\n",
        "        support_images.to(device),\n",
        "        support_labels.to(device),\n",
        "        query_images.to(device),\n",
        "    )\n",
        "    preds = scores.argmax(dim=1).cpu()\n",
        "    correct = (preds == query_labels).sum().item()\n",
        "    total = query_labels.numel()\n",
        "    return correct, total\n",
        "\n",
        "@torch.no_grad()\n",
        "def evaluate(data_loader: DataLoader):\n",
        "    per_episode_acc = []\n",
        "    for (\n",
        "        support_images,\n",
        "        support_labels,\n",
        "        query_images,\n",
        "        query_labels,\n",
        "        true_class_ids,\n",
        "    ) in data_loader:\n",
        "        correct, total = evaluate_on_one_task(\n",
        "            support_images, support_labels, query_images, query_labels\n",
        "        )\n",
        "        per_episode_acc.append(correct / total)\n",
        "\n",
        "    T = len(per_episode_acc)\n",
        "    mean_acc = sum(per_episode_acc) / T\n",
        "    var = sum((a - mean_acc) ** 2 for a in per_episode_acc) / (T - 1) if T > 1 else 0.0\n",
        "    std = math.sqrt(var)\n",
        "    ci95 = 1.96 * (std / math.sqrt(T)) if T > 0 else 0.0\n",
        "\n",
        "    print(f\"Tested on {T} tasks - Accuracy: {100*mean_acc:.2f}% ± {100*ci95:.2f}% (95% CI)\")\n"
      ],
      "metadata": {
        "id": "B-DYyHeAD5FW"
      },
      "execution_count": 13,
      "outputs": []
    },
    {
      "cell_type": "code",
      "source": [
        "evaluate(test_loader)"
      ],
      "metadata": {
        "colab": {
          "base_uri": "https://localhost:8080/"
        },
        "id": "jBbk_rUFD29z",
        "outputId": "e77e1ff2-3686-4715-cd53-cbaf0fcc4d2e"
      },
      "execution_count": 14,
      "outputs": [
        {
          "output_type": "stream",
          "name": "stdout",
          "text": [
            "Tested on 100 tasks - Accuracy: 85.08% ± 1.49% (95% CI)\n"
          ]
        }
      ]
    },
    {
      "cell_type": "markdown",
      "source": [
        "### **2.3 Episodic fine-tuning**\n",
        "\n",
        "We now **fine-tune episodically** the model on Omniglot *background* (train) split using episodic tasks.\n",
        "Each training step:\n",
        "1) builds an N-way, K-shot task,\n",
        "2) computes class prototypes from the support set,\n",
        "3) predicts query labels,\n",
        "4) updates the encoder with cross-entropy on query predictions.\n",
        "\n",
        "> Note: for a concise notebook we omit a validation split here, but in practice you should keep a validation episodic loader and monitor it for early stopping.\n"
      ],
      "metadata": {
        "id": "1xPrxjUIH_dE"
      }
    },
    {
      "cell_type": "code",
      "source": [
        "# Etichette delle classi sullo split background=True\n",
        "labels_train_val = get_dataset_labels(train_full)  # shape (N,)\n",
        "classes_train_val = np.unique(labels_train_val)\n",
        "\n",
        "# Es. 20% delle classi per validation\n",
        "val_ratio = 0.01\n",
        "n_val = max(1, int(len(classes_train_val) * val_ratio))\n",
        "val_classes = set(rng.choice(classes_train_val, size=n_val, replace=False))\n",
        "\n",
        "# Indici per train/val in base alla CLASSE (non immagine)\n",
        "train_idx = [i for i, y in enumerate(labels_train_val) if y not in val_classes]\n",
        "val_idx   = [i for i, y in enumerate(labels_train_val) if y in  val_classes]\n",
        "\n",
        "train_set = Subset(train_full, train_idx)\n",
        "val_set   = Subset(val_full,   val_idx)"
      ],
      "metadata": {
        "id": "yqUhPv5GA9cq"
      },
      "execution_count": 15,
      "outputs": []
    },
    {
      "cell_type": "code",
      "source": [
        "# Ottieni le label corrispondenti ai Subset\n",
        "labels_train = labels_train_val[train_idx]\n",
        "labels_val   = labels_train_val[val_idx]\n",
        "\n",
        "# Mappa classe->indici locali per train/val\n",
        "train_class_indices = {c: np.where(labels_train == c)[0] for c in np.unique(labels_train)}\n",
        "val_class_indices   = {c: np.where(labels_val   == c)[0] for c in np.unique(labels_val)}\n",
        "\n",
        "def train_episodic_sampler(class_indices, n_way, k_shot, q_query, n_tasks, rng):\n",
        "    n_per_class = k_shot + q_query\n",
        "    all_classes = list(class_indices.keys())\n",
        "    for _ in range(n_tasks):\n",
        "        chosen = rng.choice(all_classes, size=n_way, replace=False)\n",
        "        batch = []\n",
        "        for c in chosen:\n",
        "            pool = class_indices[c]\n",
        "            if len(pool) < n_per_class:\n",
        "                raise ValueError(f\"Class {c} has only {len(pool)} samples; need {n_per_class}.\")\n",
        "            idx_local = rng.choice(pool, size=n_per_class, replace=False)\n",
        "            batch.append(idx_local)\n",
        "        yield np.concatenate(batch)"
      ],
      "metadata": {
        "id": "nCYu-T7UJcl8"
      },
      "execution_count": 16,
      "outputs": []
    },
    {
      "cell_type": "code",
      "source": [
        "train_collate = partial(episodic_collate_fn, n_way=N_WAY, k_shot=K_SHOT, q_query=Q_QUERY)\n",
        "val_collate   = partial(episodic_collate_fn, n_way=N_WAY, k_shot=K_SHOT, q_query=Q_QUERY)\n",
        "\n",
        "train_loader = DataLoader(\n",
        "    train_set,\n",
        "    batch_sampler=list(train_episodic_sampler(train_class_indices, N_WAY, K_SHOT, Q_QUERY, N_TRAINING_TASKS, rng)),\n",
        "    collate_fn=train_collate,\n",
        "    num_workers=2,\n",
        "    pin_memory=True,\n",
        ")\n",
        "\n",
        "val_loader = DataLoader(\n",
        "    val_set,\n",
        "    batch_sampler=list(train_episodic_sampler(val_class_indices, N_WAY, K_SHOT, Q_QUERY, N_VAL_TASKS, rng)),\n",
        "    collate_fn=val_collate,\n",
        "    num_workers=2,\n",
        "    pin_memory=True,\n",
        ")"
      ],
      "metadata": {
        "id": "DciMNHXIB5Pu"
      },
      "execution_count": 17,
      "outputs": []
    },
    {
      "cell_type": "code",
      "source": [
        "len(train_loader)"
      ],
      "metadata": {
        "id": "q5LTRrM8GL-y",
        "outputId": "a1747152-ab70-4a4f-ca64-b1970fc34797",
        "colab": {
          "base_uri": "https://localhost:8080/"
        }
      },
      "execution_count": 18,
      "outputs": [
        {
          "output_type": "execute_result",
          "data": {
            "text/plain": [
              "10000"
            ]
          },
          "metadata": {},
          "execution_count": 18
        }
      ]
    },
    {
      "cell_type": "markdown",
      "source": [
        "#### 2.3.1 Loss, optimizer, and backbone freezing\n",
        "\n",
        "We optimize **cross-entropy** on query predictions using **Adam**.  \n",
        "You may:\n",
        "- fine-tune the whole encoder, or\n",
        "- **freeze** the backbone and train only a small head (not typical for ProtoNets), or\n",
        "- partially unfreeze (e.g., last residual block) for stability on small K.\n"
      ],
      "metadata": {
        "id": "aFORcxfMJird"
      }
    },
    {
      "cell_type": "code",
      "source": [
        "criterion = nn.CrossEntropyLoss()\n",
        "optimizer = optim.Adam(model.parameters(), lr=1e-3, weight_decay=0.0)\n",
        "\n",
        "# Freeze all but the last block\n",
        "if FREEZE_BACKBONE:\n",
        "  for name, p in model.backbone.named_parameters():\n",
        "      p.requires_grad = (\"layer4\" in name)  # only train last block\n",
        "\n",
        "def set_bn_eval(m):\n",
        "    if isinstance(m, nn.BatchNorm2d):\n",
        "        m.eval()\n",
        "        for p in m.parameters():\n",
        "            p.requires_grad = False\n",
        "model.backbone.apply(set_bn_eval)\n",
        "\n",
        "trainable = sum(p.numel() for p in model.parameters() if p.requires_grad)\n",
        "print(f\"Trainable parameters: {(trainable/(10**6)):.2f}M (on {sum(p.numel() for p in model.parameters())/(10**6):.2f}M)\")\n",
        "\n",
        "def sliding_average(xs, k=10):\n",
        "    if len(xs) == 0:\n",
        "        return 0.0\n",
        "    if len(xs) < k:\n",
        "        return float(sum(xs) / len(xs))\n",
        "    return float(sum(xs[-k:]) / k)"
      ],
      "metadata": {
        "colab": {
          "base_uri": "https://localhost:8080/"
        },
        "id": "iJ3wuZuXJhuh",
        "outputId": "89a79a3b-b6eb-4503-c8e6-7f15da85584d"
      },
      "execution_count": 19,
      "outputs": [
        {
          "output_type": "stream",
          "name": "stdout",
          "text": [
            "Trainable parameters: 8.39M (on 11.18M)\n"
          ]
        }
      ]
    },
    {
      "cell_type": "markdown",
      "source": [
        "#### 2.3.2 Episodic training loop"
      ],
      "metadata": {
        "id": "N5dvjwGpLtEq"
      }
    },
    {
      "cell_type": "code",
      "source": [
        "@torch.enable_grad()\n",
        "def fit_one_episode(\n",
        "    support_images: torch.Tensor,\n",
        "    support_labels: torch.Tensor,\n",
        "    query_images: torch.Tensor,\n",
        "    query_labels: torch.Tensor,\n",
        ") -> float:\n",
        "    \"\"\"\n",
        "    Single episodic training step: build prototypes on support, predict queries, optimize CE on query labels.\n",
        "    \"\"\"\n",
        "    model.train()\n",
        "    optimizer.zero_grad()\n",
        "\n",
        "    scores, _ = model(\n",
        "        support_images.to(device),\n",
        "        support_labels.to(device),\n",
        "        query_images.to(device),\n",
        "    )\n",
        "    loss = criterion(scores, query_labels.to(device))\n",
        "    loss.backward()\n",
        "\n",
        "    optimizer.step()\n",
        "    return float(loss.item())"
      ],
      "metadata": {
        "id": "8w1K3f7fMN2j"
      },
      "execution_count": 20,
      "outputs": []
    },
    {
      "cell_type": "code",
      "source": [
        "# 1) Funzione di valutazione che RITORNA le metriche (no print)\n",
        "@torch.no_grad()\n",
        "def evaluate_metrics(data_loader: DataLoader):\n",
        "    per_episode_acc = []\n",
        "    for (\n",
        "        support_images,\n",
        "        support_labels,\n",
        "        query_images,\n",
        "        query_labels,\n",
        "        _true_class_ids,\n",
        "    ) in data_loader:\n",
        "        model.eval()\n",
        "        scores, _ = model(\n",
        "            support_images.to(device),\n",
        "            support_labels.to(device),\n",
        "            query_images.to(device),\n",
        "        )\n",
        "        preds = scores.argmax(dim=1).cpu()\n",
        "        correct = (preds == query_labels).sum().item()\n",
        "        total = query_labels.numel()\n",
        "        per_episode_acc.append(correct / total)\n",
        "\n",
        "    T = len(per_episode_acc)\n",
        "    mean_acc = sum(per_episode_acc) / T\n",
        "    var = sum((a - mean_acc) ** 2 for a in per_episode_acc) / (T - 1) if T > 1 else 0.0\n",
        "    std = math.sqrt(var)\n",
        "    ci95 = 1.96 * (std / math.sqrt(T)) if T > 0 else 0.0\n",
        "    return float(mean_acc), float(ci95)\n"
      ],
      "metadata": {
        "id": "QICZgyJhMBOv"
      },
      "execution_count": 21,
      "outputs": []
    },
    {
      "cell_type": "code",
      "source": [
        "from copy import deepcopy\n",
        "\n",
        "LOG_EVERY = 20\n",
        "VAL_EVERY = 500            # valida ogni 100 episodi (adatta a piacere)\n",
        "PATIENCE  = 5              # early stopping dopo 5 peggioramenti consecutivi\n",
        "all_loss  = []\n",
        "\n",
        "best_val_acc = -1.0\n",
        "patience_ctr = 0\n",
        "best_state   = None\n",
        "\n",
        "model.train()\n",
        "with tqdm(enumerate(train_loader), total=len(train_loader), desc=\"Episodic training\") as tq:\n",
        "    for step, (\n",
        "        support_images,\n",
        "        support_labels,\n",
        "        query_images,\n",
        "        query_labels,\n",
        "        _true_class_ids,\n",
        "    ) in tq:\n",
        "        # ---- TRAIN ----\n",
        "        loss_val = fit_one_episode(support_images, support_labels, query_images, query_labels)\n",
        "        all_loss.append(loss_val)\n",
        "\n",
        "        if step % LOG_EVERY == 0:\n",
        "            tq.set_postfix(loss=sliding_average(all_loss, LOG_EVERY))\n",
        "\n",
        "        # ---- VALIDATION PERIODICA ----\n",
        "        if (step + 1) % VAL_EVERY == 0:\n",
        "            model.eval()\n",
        "            val_acc, val_ci = evaluate_metrics(val_loader)   # media per-episodio + 95% CI\n",
        "            tq.write(f\"\\t[val] step {step+1}: acc={100*val_acc:.2f}% ± {100*val_ci:.2f}%\")\n",
        "\n",
        "            # checkpointing del miglior modello\n",
        "            if val_acc > best_val_acc + 1e-6:\n",
        "                best_val_acc = val_acc\n",
        "                patience_ctr = 0\n",
        "                best_state = {\n",
        "                    \"model\": deepcopy(model.state_dict()),\n",
        "                    \"optimizer\": deepcopy(optimizer.state_dict()),\n",
        "                    \"step\": step + 1,\n",
        "                    \"val_acc\": best_val_acc,\n",
        "                }\n",
        "            else:\n",
        "                patience_ctr += 1\n",
        "                if patience_ctr >= PATIENCE:\n",
        "                    tq.write(f\"Early stopping (no improvement for {PATIENCE} validations).\")\n",
        "                    break\n",
        "\n",
        "            model.train()\n",
        "\n",
        "# ---- RIPRISTINA IL MIGLIOR MODELLO ----\n",
        "if best_state is not None:\n",
        "    model.load_state_dict(best_state[\"model\"])\n",
        "    optimizer.load_state_dict(best_state[\"optimizer\"])\n"
      ],
      "metadata": {
        "id": "JMCMHSJrMDkN",
        "outputId": "34326c02-4a8c-448c-c361-c26196f010af",
        "colab": {
          "base_uri": "https://localhost:8080/"
        }
      },
      "execution_count": 22,
      "outputs": [
        {
          "output_type": "stream",
          "name": "stderr",
          "text": [
            "Episodic training:   5%|▌         | 502/10000 [01:09<10:02:04,  3.80s/it, loss=0.977]"
          ]
        },
        {
          "output_type": "stream",
          "name": "stdout",
          "text": [
            "\t[val] step 500: acc=91.97% ± 0.29%\n"
          ]
        },
        {
          "output_type": "stream",
          "name": "stderr",
          "text": [
            "Episodic training:  10%|█         | 1003/10000 [02:21<8:57:37,  3.59s/it, loss=0.774] "
          ]
        },
        {
          "output_type": "stream",
          "name": "stdout",
          "text": [
            "\t[val] step 1000: acc=94.77% ± 0.25%\n"
          ]
        },
        {
          "output_type": "stream",
          "name": "stderr",
          "text": [
            "Episodic training:  15%|█▌        | 1502/10000 [03:30<9:35:18,  4.06s/it, loss=0.787] "
          ]
        },
        {
          "output_type": "stream",
          "name": "stdout",
          "text": [
            "\t[val] step 1500: acc=94.05% ± 0.27%\n"
          ]
        },
        {
          "output_type": "stream",
          "name": "stderr",
          "text": [
            "Episodic training:  20%|██        | 2002/10000 [04:41<8:16:04,  3.72s/it, loss=0.686] "
          ]
        },
        {
          "output_type": "stream",
          "name": "stdout",
          "text": [
            "\t[val] step 2000: acc=93.98% ± 0.28%\n"
          ]
        },
        {
          "output_type": "stream",
          "name": "stderr",
          "text": [
            "Episodic training:  25%|██▌       | 2502/10000 [05:51<8:39:39,  4.16s/it, loss=0.685] "
          ]
        },
        {
          "output_type": "stream",
          "name": "stdout",
          "text": [
            "\t[val] step 2500: acc=94.97% ± 0.24%\n"
          ]
        },
        {
          "output_type": "stream",
          "name": "stderr",
          "text": [
            "Episodic training:  30%|███       | 3003/10000 [07:01<6:41:29,  3.44s/it, loss=0.738] "
          ]
        },
        {
          "output_type": "stream",
          "name": "stdout",
          "text": [
            "\t[val] step 3000: acc=94.14% ± 0.26%\n"
          ]
        },
        {
          "output_type": "stream",
          "name": "stderr",
          "text": [
            "Episodic training:  35%|███▌      | 3502/10000 [08:10<6:49:10,  3.78s/it, loss=0.664]"
          ]
        },
        {
          "output_type": "stream",
          "name": "stdout",
          "text": [
            "\t[val] step 3500: acc=94.34% ± 0.27%\n"
          ]
        },
        {
          "output_type": "stream",
          "name": "stderr",
          "text": [
            "Episodic training:  40%|████      | 4003/10000 [09:21<7:15:18,  4.36s/it, loss=0.692] "
          ]
        },
        {
          "output_type": "stream",
          "name": "stdout",
          "text": [
            "\t[val] step 4000: acc=93.92% ± 0.27%\n"
          ]
        },
        {
          "output_type": "stream",
          "name": "stderr",
          "text": [
            "Episodic training:  45%|████▌     | 4503/10000 [10:30<4:55:18,  3.22s/it, loss=0.626]"
          ]
        },
        {
          "output_type": "stream",
          "name": "stdout",
          "text": [
            "\t[val] step 4500: acc=95.79% ± 0.23%\n"
          ]
        },
        {
          "output_type": "stream",
          "name": "stderr",
          "text": [
            "Episodic training:  50%|█████     | 5003/10000 [11:40<5:20:09,  3.84s/it, loss=0.621]"
          ]
        },
        {
          "output_type": "stream",
          "name": "stdout",
          "text": [
            "\t[val] step 5000: acc=95.89% ± 0.21%\n"
          ]
        },
        {
          "output_type": "stream",
          "name": "stderr",
          "text": [
            "Episodic training:  55%|█████▌    | 5502/10000 [12:49<4:34:16,  3.66s/it, loss=0.618]"
          ]
        },
        {
          "output_type": "stream",
          "name": "stdout",
          "text": [
            "\t[val] step 5500: acc=93.39% ± 0.32%\n"
          ]
        },
        {
          "output_type": "stream",
          "name": "stderr",
          "text": [
            "Episodic training:  60%|██████    | 6003/10000 [14:00<3:48:44,  3.43s/it, loss=0.609]"
          ]
        },
        {
          "output_type": "stream",
          "name": "stdout",
          "text": [
            "\t[val] step 6000: acc=95.26% ± 0.28%\n"
          ]
        },
        {
          "output_type": "stream",
          "name": "stderr",
          "text": [
            "Episodic training:  65%|██████▌   | 6502/10000 [15:09<4:09:13,  4.27s/it, loss=0.523]"
          ]
        },
        {
          "output_type": "stream",
          "name": "stdout",
          "text": [
            "\t[val] step 6500: acc=95.97% ± 0.27%\n"
          ]
        },
        {
          "output_type": "stream",
          "name": "stderr",
          "text": [
            "Episodic training:  70%|███████   | 7002/10000 [16:19<3:10:34,  3.81s/it, loss=0.547]"
          ]
        },
        {
          "output_type": "stream",
          "name": "stdout",
          "text": [
            "\t[val] step 7000: acc=95.79% ± 0.26%\n"
          ]
        },
        {
          "output_type": "stream",
          "name": "stderr",
          "text": [
            "Episodic training:  75%|███████▌  | 7502/10000 [17:29<3:06:03,  4.47s/it, loss=0.527]"
          ]
        },
        {
          "output_type": "stream",
          "name": "stdout",
          "text": [
            "\t[val] step 7500: acc=95.80% ± 0.24%\n"
          ]
        },
        {
          "output_type": "stream",
          "name": "stderr",
          "text": [
            "Episodic training:  80%|████████  | 8002/10000 [18:39<2:31:12,  4.54s/it, loss=0.509]"
          ]
        },
        {
          "output_type": "stream",
          "name": "stdout",
          "text": [
            "\t[val] step 8000: acc=94.35% ± 0.30%\n"
          ]
        },
        {
          "output_type": "stream",
          "name": "stderr",
          "text": [
            "Episodic training:  85%|████████▌ | 8502/10000 [19:49<1:58:35,  4.75s/it, loss=0.503]"
          ]
        },
        {
          "output_type": "stream",
          "name": "stdout",
          "text": [
            "\t[val] step 8500: acc=92.67% ± 0.35%\n"
          ]
        },
        {
          "output_type": "stream",
          "name": "stderr",
          "text": [
            "Episodic training:  90%|█████████ | 9002/10000 [20:58<1:09:57,  4.21s/it, loss=0.563]"
          ]
        },
        {
          "output_type": "stream",
          "name": "stdout",
          "text": [
            "\t[val] step 9000: acc=96.32% ± 0.23%\n"
          ]
        },
        {
          "output_type": "stream",
          "name": "stderr",
          "text": [
            "Episodic training:  95%|█████████▌| 9503/10000 [22:08<33:43,  4.07s/it, loss=0.513]"
          ]
        },
        {
          "output_type": "stream",
          "name": "stdout",
          "text": [
            "\t[val] step 9500: acc=95.40% ± 0.28%\n"
          ]
        },
        {
          "output_type": "stream",
          "name": "stderr",
          "text": [
            "Episodic training: 100%|██████████| 10000/10000 [23:17<00:00,  7.16it/s, loss=0.499]"
          ]
        },
        {
          "output_type": "stream",
          "name": "stdout",
          "text": [
            "\t[val] step 10000: acc=95.28% ± 0.30%\n"
          ]
        },
        {
          "output_type": "stream",
          "name": "stderr",
          "text": [
            "\n"
          ]
        }
      ]
    },
    {
      "cell_type": "markdown",
      "source": [
        "#### Final evaluation\n",
        "\n",
        "After the episodic fine-tuning, evaluate again on the **evaluation split** with episodic testing (same as before), reporting **mean accuracy ± 95% CI** over `N_EVAL_TASKS` episodes.\n"
      ],
      "metadata": {
        "id": "qGw44tzDL2pt"
      }
    },
    {
      "cell_type": "code",
      "source": [
        "model.eval()\n",
        "test_acc, test_ci = evaluate_metrics(test_loader)\n",
        "print(f\"[test] acc={100*test_acc:.2f}% ± {100*test_ci:.2f}% (95% CI)\")"
      ],
      "metadata": {
        "id": "byoOYk_rTeAt",
        "outputId": "e22d448f-06a4-4eba-8764-2962455370c6",
        "colab": {
          "base_uri": "https://localhost:8080/"
        }
      },
      "execution_count": 23,
      "outputs": [
        {
          "output_type": "stream",
          "name": "stdout",
          "text": [
            "[test] acc=92.94% ± 1.11% (95% CI)\n"
          ]
        }
      ]
    }
  ]
}